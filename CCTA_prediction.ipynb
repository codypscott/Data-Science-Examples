{
 "cells": [
  {
   "cell_type": "markdown",
   "metadata": {},
   "source": [
    "# Note: I began to use more scoring measures than I actually ended up using. These were left in my code, as I removed them rather late.\n"
   ]
  },
  {
   "cell_type": "code",
   "execution_count": 7,
   "metadata": {},
   "outputs": [],
   "source": [
    "import pandas as pd\n",
    "import numpy as np\n",
    "\n",
    "np.set_printoptions(suppress=True) ## don't use scientific notation in arrays \n",
    "\n",
    "import matplotlib.pyplot as plt\n",
    "from matplotlib.font_manager import FontProperties"
   ]
  },
  {
   "cell_type": "code",
   "execution_count": 8,
   "metadata": {},
   "outputs": [],
   "source": [
    "## paths\n",
    "\n",
    "## LaTeX Templates\n",
    "path = r'C:\\Users\\ricke\\OneDrive\\Documents\\DTSC 3601\\Project 2\\Project2_LaTeX\\table_templates' + '\\\\'\n",
    "\n",
    "## LaTeX tables - save tables here\n",
    "table_path = r'C:\\Users\\ricke\\OneDrive\\Documents\\DTSC 3601\\Project 2\\Project2_LaTeX\\tables' + '\\\\'"
   ]
  },
  {
   "cell_type": "code",
   "execution_count": 9,
   "metadata": {},
   "outputs": [],
   "source": [
    "## create .tex file with summary table in it\n",
    "## note: uses templates in table_template folder\n",
    "## should only need to be run once! \n",
    "apa_summary_table = False\n",
    "\n",
    "\n",
    "\n",
    "## run correlation on features\n",
    "run_correlation = True\n",
    "corr_limit = .65\n",
    "\n",
    "\n",
    "## 2 ways to fix missing data  KNN or MEAN/MODE\n",
    "\n",
    "## knn is performed after removing correlated variables, after merge\n",
    "## fillna is used right before scaling the data and before the merge\n",
    "\n",
    "run_knn = False ## will take around 40-45 minutes\n",
    "missing = 'knn' \n",
    "\n",
    "use_knn = True ## uses knn imputed data for modeling\n",
    "\n",
    "## use simple strategy to fix missing\n",
    "#missing = 'fillna' ## uses mean and mode\n",
    "\n",
    "## set the target variable \n",
    "\n",
    "\n",
    "target_variable = 'ccta_next' ## number of cctas\n",
    "#target_variable = 'CCTA_next' ## if a CCTA will occur or not\n",
    "\n",
    "\n",
    "## fill out template for table of model scores\n",
    "## if true, use these in table\n",
    "score_table_file = 'knn_initial_amount.tex'\n",
    "score_label = 'cctascores3'\n",
    "\n",
    "\n",
    "## test size\n",
    "test = .3\n",
    "\n",
    "## random state \n",
    "state = 2"
   ]
  },
  {
   "cell_type": "code",
   "execution_count": 10,
   "metadata": {},
   "outputs": [],
   "source": [
    "## variables to merge entries on\n",
    "merge_col = ['ID_country_name', 'ID_year']"
   ]
  },
  {
   "cell_type": "markdown",
   "metadata": {},
   "source": [
    "# Data"
   ]
  },
  {
   "cell_type": "markdown",
   "metadata": {},
   "source": [
    "## 1. Describe how you obtained the data, where does the data come from, what are its characteristics? "
   ]
  },
  {
   "cell_type": "markdown",
   "metadata": {},
   "source": [
    "## Global Terrorism Database \n",
    "  \n",
    "The Global Terrorism Database (GTD) is a comprehensive dataset on terrorism from 1970 - 2015. It is maintained by the Study of Terrorism and Responses to Terrorism (START) and was collected in four main phases. This contains over 200,000 incidents and their descriptive indicators. "
   ]
  },
  {
   "cell_type": "markdown",
   "metadata": {},
   "source": [
    "## Global States of Democracy  \n",
    "  \n",
    "The Global States of Democracy (GSoD) is an a biennal report and dataset that is maintained by the International Institute for Democracy and Electoral Assistance. It brings in many indicators of democracy from several sources. These indicators are coallesced into aggregate variables that exist on a 0-1 scale to measure the strength and quality of democracy in the world. \n",
    "\n",
    "## Varieties of Democracy\n",
    "\n",
    "The GSoD using the Varieties of Democracy Insitute's (V-Dem) data on democracy around the world. V-Dem seeks to explain democracy in more ways than just elections and has aseembled variables from disaggregate indicators to represent elections, government branches, liberty, exclusion, and more to measure democracy. It also draws on sources from other studies and datasets. \n",
    "\n",
    "## International Country Risk Guide \n",
    "The International Country Risk Guide (ICRG) is a database maintained by the Political Risk Services (PRS) group. The PRS group seeks to quantify investment risk based on the political climate in a country or region. The ICRG is built with seperate methodology than the rest of PRS' products. The ICRG is updated monthly and includes over 8,000 data points. More clarified information is behind a paywall, unfortunately. "
   ]
  },
  {
   "cell_type": "markdown",
   "metadata": {},
   "source": [
    "## World Bank\n",
    "\n",
    "The World Bank Group is a global partnership to battle poverty and increase the prosperity of those around the world. It provides GovData360, an aggregate databank that consists of 29 different sources and over 4700 indicators. These measure government, business, and citizens in a variety of ways. It was through GovData360 that I was able to find many of the variables used. "
   ]
  },
  {
   "cell_type": "markdown",
   "metadata": {},
   "source": [
    "## Feature Selection\n",
    "\n",
    "Several categories of factors help the formation of terrorism: structural, accelerator, motivational, and incident triggering (Bjørgo, 2004). \n",
    "\n",
    "(Bjørgo, T. (Ed.). (2004). Root causes of terrorism: Myths, reality and ways forward. Routledge."
   ]
  },
  {
   "cell_type": "markdown",
   "metadata": {},
   "source": [
    "## Structural (economic, political, cultural factors)\n",
    "* **absence of corruption (C_SD41)** | GSoD (1975 - 2019)\n",
    "    * Definition: The absence of corruption sub-attribute denotes the extent to which the executive and the public administration, more broadly, do not abuse their office for personal gain. Four V-Dem indicators explicitly refer to corruption in the government broadly understood, i.e., the executive and public administration more generally (but excluding courts and parliaments). We make use of these and another expert-coded but broader indicator on government corruption from the ICRG data set. The five indicators have been aggregated into the absence of corruption sub-attribute using IRT\n",
    "    * scale: 0-1  \n",
    "* **bureaucratic quality (v_42_06)** | ICRG via GSoD \n",
    "    * Definition: The institutional strength and quality of the bureaucracy is another shock absorber that tends to minimize revisions of policy when governments change. Therefore, high points are given to countries where the bureaucracy has the strength and expertise to govern without drastic changes in policy or interruptions in government services. In these low-risk countries, the bureaucracy tends to be somewhat autonomous from political pressure and to have an established mechanism for recruitment and training. Countries that lack the cushioning effect of a strong bureaucracy receive low points because a change in government tends to be traumatic in terms of policy formulation and day-to-day administrative function\n",
    "    * scale: 0-1 \n",
    "* **representation of disadvantaged social groups (v_23_05)** | Varieties of Democracy via GSoD\n",
    "    * Definition: Question: Considering all the disadvantaged social groups in the country, how well represented are these groups, as a whole, in the national legislature Responses: 1: They have no representation at all. 2: They are highly under-represented relative to their proportion of the general population. 3: They are slightly under-represented relative to their proportion of the general population. 4: They are represented roughly equal relative to their proportion of the general population. 5: They are over-represented relative to their proportion of the general population. Clarification: Disadvantage refers to socio-economic disadvantage. Specifically, in orderto be considered disadvantaged, members of a social group must have an average income that is significantly below the median national income\n",
    "    * scale: 0-1\n",
    "* *political stability  (Political Stability No Violence) | WGI (2004 - 2020)  - not using due to lack of years for the data*\n",
    "* **Gender equality (C_SD23C)** | GSoD\n",
    "    * Definition: Three expert-coded indicators from V-Dem were used to operationalize gender equality—power distribution by gender, female participation in civil society organizations and gender-based exclusion—as well as three observational indicators on the ratio between female and male mean years of schooling (IHME), the proportion of lower chamber female legislators (V-Dem)and the proportion of women in ministerial-level positions (V-Dem). The seven indicators were aggregated into the gender equality subcomponent using IRT.\n",
    "    * scale: 0-1 \n",
    " \n",
    "\n",
    "\n",
    "## Accelerator (\"attract\" terrorism, weak state control)\n",
    "* **Religious Tensions / Ethnic Tensions  (v_23_10)** | ICRG via GSoD \n",
    "    * Definition:Religious Tensions: What is the degree of tension within a country attributable to religious divisions, domination, or suppression? Ethnic Tensions: What is the degree of tension within a country attributable to racial, nationality, or language divisions?\n",
    "    * scale: 0-1 \n",
    "* **law and order (v_32_05)** | ICRG via GSoD\n",
    "    * Definition: To what extent is the legal system strong and impartial and to what degree is there popular observance of the law?    \n",
    "    * scale: 0-1\n",
    "* **military expenditure (Military expenditure (% of GDP))** | STOCKHOLM INTERNATIONAL PEACE RESEARCH INSTITUTE/Yearbook 1960 - 2020\n",
    "    * Definition: Military expenditure based as a percentage of GDP\n",
    "    * scale: 0.0 - 117.3498232 % \n",
    "* **GDP growth % ( variable | GDP growth (annual %))** | World Bank / Organization for Economic Co-operation and Development 1960 - 2020\n",
    "    * Definition: GDP Growth as annual percentage per capita\n",
    "    * Scale: -64.99236918 - 140.3670241 %\n",
    "  \n",
    "\n",
    "## Motivational (personal greivances)\n",
    "* **religious tensions (using same variable as ethnic - will look for two seperate variables)** | ICRG via GSoD\n",
    "* **internal conflict (v_22_46)** |ICRG via GSoD\n",
    "    * Definition: An assessment of political violence in the country and its actual or potential impact on governance. The highest rating is given to those countries where there is no armed or civil opposition to the government and the government does not indulge in arbitrary violence, direct or indirect, against its own people. The lowest rating is given to a country embroiled in an ongoing civil war. The risk rating assigned is the sum of three subcomponents (Civil War/Coup Threat, Terrorism/Political Violence, Civil Disorder), each with a maximum score of four points and a minimum score of 0 points. A score of 4 points equates to very low risk and a score of 0 points to very high risk\n",
    "    * scale: 0 - 1\n",
    "* **Social group equality in respect for civil liberties (v_23_02)** | Varieties of Democracy via GSoD\n",
    "    * Definition: Question: Do all social groups, as distinguished by language, ethnicity, religion, race, region or caste, enjoy the same level of civil liberties? Or are some groups generally in a more favorable position? Responses: 0: Members of some social groups enjoy far fewer civil liberties than the general population. 1: Members of some social groups enjoy substantially fewer civil liberties than the general population. 2: Members of some social groups enjoy moderately fewer civil liberties than the general population. 3: Members of some social groups enjoy slightly fewer civil liberties than the general population. 4: Members of all salient social groups enjoy the same level of civil liberties. Clarification: Here, civil liberties are understood as comprising access to justice, private property rights, freedom of movement and freedom from forced labor\n",
    "    * scale: 0 - 1 \n",
    "* **Exclusion by political group (v_23_07)** | Varieties of Democracy via GSoD\n",
    "    * Definition: Index of (political) exclusion by political group Clarification: Exclusion is when individuals are denied access to services or participation in governed space(spaces that are part of the public space and the government should regulate, while excluding private spaces and organizations except when exclusion in those private spheres is linked to exclusion in the public sphere) based on their identity or belonging to a particular group. The index is formed by taking the point estimates from a Bayesian factor analysis model of the indicators political group equality in respect for civil liberties (v2clpolcl), access to public services by political group (v2peapspol), access to state jobs by political group (v2peasjpol), and access to state business opportunities by political group (v2peasbpol).\n",
    "    * scale: 0 - 1\n",
    "\n",
    "## Triggering (political calamity, calls for revenge) (GTD) (1970 - 2015)\n",
    "* **crit1**\n",
    "    * Definition: The violent act must be aimed at attaining a political, economic, religious, or social goal. This criterion is not satisfied in those cases where the perpetrator(s) acted out of a pure profit motive or from an idiosyncratic personal motive unconnected with broader societal change. \n",
    "    * Scale: 0 or 1\n",
    "* **crit2**\n",
    "    * Definition: To satisfy this criterion there must be evidence of an intention to coerce, intimidate, or convey some other message to a larger audience (or audiences) than the immediate victims. Such evidence can include (but is not limited to) the following: pre- or post-attack statements by the perpetrator(s), past behavior by the perpetrators or the particular nature of the target/victim, weapon, or attack type.\n",
    "    * Scale: 0 or 1\n",
    "* **crit3**\n",
    "    * Definition: The action is outside the context of legitimate warfare activities, insofar as it targets non-combatants (i.e. the act must be outside the parameters permitted by international humanitarian law as reflected in the Additional Protocol to the Geneva Conventions of 12 August 1949 and elsewhere).\n",
    "    * Scale: 0 or 1\n",
    "* **success**\n",
    "    * Definition: The definition of a successful attack depends on the type of attack. Essentially, the key question is whether or not the attack type took place. If a case has multiple attack types, it is successful if any of the attack types are successful, with the exception of assassinations, which are only successful if the intended target is killed.\n",
    "    * Scale: 0 or 1\n",
    "* **attacktype1_txt(unknown | 9)**\n",
    "    * Definition: Attack Type Hierarchy: Assassination, Hijacking, Kidnapping, Barricade Incident, Bombing/Explosion, Armed Assault, Unarmed Assault, Facility/Infrastructure Attack, Unknown\n",
    "    * Scale: 1 - 9(text)\n",
    "* **weaptype1_txt (unknown | 13)**\n",
    "    * Definition: Up to four weapon types are recorded for each incident. This field records the general type of weapon used in the incident. It consists of the following categories: Biological, Chemical, Radiological, Nuclear, Firearms, Explosives, Fake Weapons, Incendiary, Melee, Vehicle, Sabotage Equipment, Other, Unknown\n",
    "    * Scale: 1 - 13 (text)\n",
    "* **targtype1  (unknown | 20)**\n",
    "    * Definition: The target/victim type field captures the general type of target/victim: Business, Government (General), Police, Abortion Related, Airports and Aircraft, Government (Diplomatic), Educational Institution, Food or Water Supply, Journalists and Media, Maritime (Includes Ports and Maritime Facilities, NGO, Other, Private Citizens and Property, Religious Figures/Institutions, Telecommunications,  Terrorists/Non-state Militias, Tourists, Transportation (Other than Aviation), Unknown, Utilities, Violent Poltical Parties)\n",
    "    * Scale: 1 - 22 (text)\n",
    "* **individual ( only after 1997 systematically filled)**\n",
    "    * Definition: his variable indicates whether the attack was carried out by an individual or several individuals not known to be affiliated with a group or organization. \n",
    "    * Scale: 0 or 1\n",
    "* **nkill**\n",
    "    * Definition: This field stores the number of total confirmed fatalities for the incident. \n",
    "    * Scale: 0.0 - 1570.0\n",
    "* **nkillter** \n",
    "    * Definition: Limited to only perpetrator fatalities, this field follows the conventions of the “Total Number of Fatalities” field described above. \n",
    "    * Scale: 0.0 - 500.0\n",
    "* **propextent (unknown | 4)**\n",
    "    * Definition: If “Property Damage?” is “Yes,” then one of the following four categories describes the extent of the property damage:\n",
    "    * Scale: 1 - 4 \n",
    "        * note 0 - 3 \n",
    "* **nhostkid (missing | -99)**\n",
    "    * Definition: This field records the total number of hostages or kidnapping victims. \n",
    "    * Scale: -99.0 - 17000.0\n",
    "\n",
    "## Variables Still Seeking \n",
    "* Unemployment Rate\n",
    "* External Conflict indicators \n",
    "\n",
    "## Targets GTD \n",
    "* **multiple** \n",
    "    * Definition: If a multiple incident or complex attack\n",
    "    * Scale: 0 or 1\n",
    "* **related (only after 1997 systematically filled)**\n",
    "    * Definition: When an attack is part of a coordinated, multipart incident the GTD IDs of the related incidents are listed here, separated by commas.\n",
    "    * Scale: Text \n",
    "* **gname**\n",
    "    * Definition: This field contains the name of the group that carried out the attack.\n",
    "    * Scale: text\n",
    "    * take one group and predict their attacks next year\n",
    "\n",
    "## Identifiers \n",
    "* **country name**\n",
    "    * Definition: Country name\n",
    "    * Scale: text\n",
    "* **year of incident / indicator**\n",
    "    * Definition: Year of incident/indicators\n",
    "    * Scale: Range of Years"
   ]
  },
  {
   "cell_type": "markdown",
   "metadata": {},
   "source": [
    "## 2. Did you run into trouble obtaining the volume or quality of data needed? How did you deal with data sparsity?  \n",
    "\n",
    "Yes. Many of the databases that are connected to GovData360 are for less years than the GTD. Some of these are only for 2010- 2019, others include from 2000 - present. The GSoD goes back too 1975 and is fairly comprehensive. The V-Dem has some country data back to 1789, but much of it from 1900 - 2020. The military and GDP data goes back to 1960.  \n",
    "I was forced to prune through my selected features as the datasets would have cut my data down to very little. Luckily, the GSoD and V-Dem had alternative indicators for the variables I had chosen from the other datasets.  \n",
    "  \n",
    "The datasets used still has much missing data. I plan to (attempt) use a tensor completion algorithm for the data correction. "
   ]
  },
  {
   "cell_type": "markdown",
   "metadata": {},
   "source": [
    "## Importing Data"
   ]
  },
  {
   "cell_type": "code",
   "execution_count": 11,
   "metadata": {},
   "outputs": [
    {
     "name": "stderr",
     "output_type": "stream",
     "text": [
      "C:\\Users\\ricke\\AppData\\Local\\Packages\\PythonSoftwareFoundation.Python.3.9_qbz5n2kfra8p0\\LocalCache\\local-packages\\Python39\\site-packages\\IPython\\core\\interactiveshell.py:3441: DtypeWarning: Columns (4,31,33,54,61,62,63,76,79,90,92,94,96,114,115,121) have mixed types.Specify dtype option on import or set low_memory=False.\n",
      "  exec(code_obj, self.user_global_ns, self.user_ns)\n",
      "C:\\Users\\ricke\\AppData\\Local\\Packages\\PythonSoftwareFoundation.Python.3.9_qbz5n2kfra8p0\\LocalCache\\local-packages\\Python39\\site-packages\\IPython\\core\\interactiveshell.py:3441: DtypeWarning: Columns (200,201) have mixed types.Specify dtype option on import or set low_memory=False.\n",
      "  exec(code_obj, self.user_global_ns, self.user_ns)\n"
     ]
    }
   ],
   "source": [
    "##\n",
    "# gtd = pd.read_csv(\"globalterrorismdb_0221dist.csv\")\n",
    "# Had an eventid issue with this file, redownloaded it from Canvas\n",
    "\n",
    "\n",
    "gtd_original = pd.read_csv(\"GTD.csv\")\n",
    "gsod_original = pd.read_csv(\"GSoDI v5.1 (1975-2020).csv\")\n",
    "military_original = pd.read_csv(\"MilitaryExpenditure%ofGDP.csv\")\n",
    "gdp_original = pd.read_csv(\"GDPpercap.csv\")"
   ]
  },
  {
   "cell_type": "markdown",
   "metadata": {},
   "source": [
    "## 3. Give a summary of the cleaning/joining of data that you’ve done.  \n",
    "For the GTD, I pulled out only the variables I am going to use for predicting and the target variables. The V-Dem indicators come from the GSoD, so I pulled all of those out of the GSoD. This is in the same format as the GTD, so merging those was easy.  \n",
    "  \n",
    "The World Bank data was in a wide format, with years as the columns. After removing some unnecessary columns, these datasets were \"melted\" so that the years are now in each row and the wanted variable did not pivot at all. This allowed for the joining to the GTD and GSoD.  \n",
    "  \n",
    "My next steps are to normalize any data that is not between 0 and 1.\n",
    "\n",
    "\n",
    "want to use this process to fill in missing data. \n",
    "Liu, J., Musialski, P., Wonka, P., & Ye, J. (2012). Tensor completion for estimating missing values in visual data. IEEE transactions on pattern analysis and machine intelligence, 35(1), 208-220."
   ]
  },
  {
   "cell_type": "markdown",
   "metadata": {},
   "source": [
    "## Data Preprocessing"
   ]
  },
  {
   "cell_type": "markdown",
   "metadata": {},
   "source": [
    "### Global Terrorism Database preprocessing "
   ]
  },
  {
   "cell_type": "code",
   "execution_count": 12,
   "metadata": {},
   "outputs": [],
   "source": [
    "## variables from gtd to study \n",
    "gtd_variables = ['country_txt', 'iyear', 'crit1', 'crit2', 'crit3', 'success', 'attacktype1_txt', 'attacktype1', \n",
    "                'weaptype1_txt', 'weaptype1', 'targtype1' , 'targtype1_txt', 'individual',  'nkill', 'nkillter', 'propextent', \n",
    "                 'nhostkid', 'multiple', 'related', 'gname'\n",
    "                ]\n",
    "\n",
    "#gtd_variables = ['country_txt', 'iyear', 'crit1', 'crit2', 'crit3', 'success', 'attacktype1', \n",
    "#               'attacktype2', 'weaptype1', 'weaptype2', 'targtype1',\n",
    "#               'targtype2', 'individual',  'nkill', 'nkillter', 'propextent', 'nhostkid',\n",
    "#              'multiple', 'related', 'gname', 'gsubname',\n",
    "#             ]\n",
    "\n",
    "## removing all variables not needed for study\n",
    "gtd = gtd_original[gtd_variables]"
   ]
  },
  {
   "cell_type": "markdown",
   "metadata": {},
   "source": [
    "#### Target Variable Aggregation"
   ]
  },
  {
   "cell_type": "code",
   "execution_count": 13,
   "metadata": {},
   "outputs": [],
   "source": [
    "## aggregate 2 variables:\n",
    "##  number of CCTAs by country and year, \n",
    "##  and then the amount next year is our target\n",
    "## \n",
    "##  ccta_next (by country)\n",
    "## \n",
    "\n",
    "## only need these columns to aggregate targets\n",
    "df = gtd[['country_txt', 'iyear', 'multiple', 'related']]\n",
    "\n",
    "## sort by country and year beginning with 'A' and earliest year possible\n",
    "df = df.sort_values(['country_txt', 'iyear'], ascending = [True, True])  \n",
    "\n",
    "\n",
    "## drop all duplicates, each CCTA will be represented by one row\n",
    "## years with no CCTAs will exist with a 0.\n",
    "df = df.drop_duplicates()\n",
    "\n",
    "## add up all the CCTAs each year\n",
    "df = df.groupby(['country_txt', 'iyear'], as_index = False)['multiple'].sum()\n",
    "\n",
    "## rename what was 'multiple' and has become the amount of CCTAs each year.\n",
    "df.rename(columns = {'multiple': 'ccta'}, inplace=  True)\n",
    "\n",
    "## for every row in the dataframe\n",
    "for x in range(0, len(df['ccta']) -1 ):\n",
    "    ## if the country is the same as the one after it,\n",
    "    ## if the year is one year after current year\n",
    "    ##      then add this to current year as target 'amount of cctas next year'\n",
    "    if (df.loc[x, 'country_txt'] == df.loc[x + 1,'country_txt'] and df.loc[x, 'iyear'] - df.loc[x + 1,'iyear'] == -1):\n",
    "       df.loc[x, 'ccta_next'] = df.loc[x + 1, 'ccta']\n",
    "    \n",
    "\n",
    "## renaming for joining later\n",
    "ccta_amount = df.rename(columns = {'country_txt': 'ID_country_name', 'iyear' : 'ID_year'})\n"
   ]
  },
  {
   "cell_type": "code",
   "execution_count": 14,
   "metadata": {},
   "outputs": [
    {
     "data": {
      "text/html": [
       "<div>\n",
       "<style scoped>\n",
       "    .dataframe tbody tr th:only-of-type {\n",
       "        vertical-align: middle;\n",
       "    }\n",
       "\n",
       "    .dataframe tbody tr th {\n",
       "        vertical-align: top;\n",
       "    }\n",
       "\n",
       "    .dataframe thead th {\n",
       "        text-align: right;\n",
       "    }\n",
       "</style>\n",
       "<table border=\"1\" class=\"dataframe\">\n",
       "  <thead>\n",
       "    <tr style=\"text-align: right;\">\n",
       "      <th></th>\n",
       "      <th>ID_country_name</th>\n",
       "      <th>ID_year</th>\n",
       "      <th>ccta</th>\n",
       "      <th>ccta_next</th>\n",
       "    </tr>\n",
       "  </thead>\n",
       "  <tbody>\n",
       "    <tr>\n",
       "      <th>0</th>\n",
       "      <td>Afghanistan</td>\n",
       "      <td>1973</td>\n",
       "      <td>0</td>\n",
       "      <td>NaN</td>\n",
       "    </tr>\n",
       "    <tr>\n",
       "      <th>1</th>\n",
       "      <td>Afghanistan</td>\n",
       "      <td>1979</td>\n",
       "      <td>0</td>\n",
       "      <td>NaN</td>\n",
       "    </tr>\n",
       "    <tr>\n",
       "      <th>7</th>\n",
       "      <td>Afghanistan</td>\n",
       "      <td>1992</td>\n",
       "      <td>0</td>\n",
       "      <td>NaN</td>\n",
       "    </tr>\n",
       "    <tr>\n",
       "      <th>33</th>\n",
       "      <td>Afghanistan</td>\n",
       "      <td>2019</td>\n",
       "      <td>157</td>\n",
       "      <td>NaN</td>\n",
       "    </tr>\n",
       "    <tr>\n",
       "      <th>34</th>\n",
       "      <td>Albania</td>\n",
       "      <td>1981</td>\n",
       "      <td>0</td>\n",
       "      <td>NaN</td>\n",
       "    </tr>\n",
       "    <tr>\n",
       "      <th>...</th>\n",
       "      <td>...</td>\n",
       "      <td>...</td>\n",
       "      <td>...</td>\n",
       "      <td>...</td>\n",
       "    </tr>\n",
       "    <tr>\n",
       "      <th>3959</th>\n",
       "      <td>Zimbabwe</td>\n",
       "      <td>2003</td>\n",
       "      <td>0</td>\n",
       "      <td>NaN</td>\n",
       "    </tr>\n",
       "    <tr>\n",
       "      <th>3962</th>\n",
       "      <td>Zimbabwe</td>\n",
       "      <td>2008</td>\n",
       "      <td>0</td>\n",
       "      <td>NaN</td>\n",
       "    </tr>\n",
       "    <tr>\n",
       "      <th>3964</th>\n",
       "      <td>Zimbabwe</td>\n",
       "      <td>2011</td>\n",
       "      <td>0</td>\n",
       "      <td>NaN</td>\n",
       "    </tr>\n",
       "    <tr>\n",
       "      <th>3966</th>\n",
       "      <td>Zimbabwe</td>\n",
       "      <td>2014</td>\n",
       "      <td>0</td>\n",
       "      <td>NaN</td>\n",
       "    </tr>\n",
       "    <tr>\n",
       "      <th>3969</th>\n",
       "      <td>Zimbabwe</td>\n",
       "      <td>2019</td>\n",
       "      <td>0</td>\n",
       "      <td>NaN</td>\n",
       "    </tr>\n",
       "  </tbody>\n",
       "</table>\n",
       "<p>1066 rows × 4 columns</p>\n",
       "</div>"
      ],
      "text/plain": [
       "     ID_country_name  ID_year  ccta  ccta_next\n",
       "0        Afghanistan     1973     0        NaN\n",
       "1        Afghanistan     1979     0        NaN\n",
       "7        Afghanistan     1992     0        NaN\n",
       "33       Afghanistan     2019   157        NaN\n",
       "34           Albania     1981     0        NaN\n",
       "...              ...      ...   ...        ...\n",
       "3959        Zimbabwe     2003     0        NaN\n",
       "3962        Zimbabwe     2008     0        NaN\n",
       "3964        Zimbabwe     2011     0        NaN\n",
       "3966        Zimbabwe     2014     0        NaN\n",
       "3969        Zimbabwe     2019     0        NaN\n",
       "\n",
       "[1066 rows x 4 columns]"
      ]
     },
     "execution_count": 14,
     "metadata": {},
     "output_type": "execute_result"
    }
   ],
   "source": [
    "ccta_amount[ ccta_amount['ccta_next'].isnull() ]"
   ]
  },
  {
   "cell_type": "code",
   "execution_count": 15,
   "metadata": {},
   "outputs": [],
   "source": [
    "## get whether or not a ccta attack occured, this and next year by country and year\n",
    "##\n",
    "## CCTA / CCTA_next\n",
    "## this target is a 1 or 0\n",
    "##\n",
    "\n",
    "## get each country and year by itself, and whether or not an attack occured\n",
    "ccta_risk = gtd.groupby(['country_txt', 'iyear'], as_index=False)['multiple'].max()\n",
    "\n",
    "## rename multiple and ID columns for joining later\n",
    "ccta_risk.rename(columns = {'country_txt': 'ID_country_name', 'iyear' : 'ID_year','multiple':'CCTA'}, inplace = True)\n",
    "\n",
    "## creae empty CCTA_next column\n",
    "ccta_risk['CCTA_next'] = np.nan\n",
    "\n",
    "## get next year's CCTA \n",
    "for x in range(0, len(ccta_risk['CCTA']) -1 ):\n",
    "    if (ccta_risk.loc[x, 'ID_country_name'] == ccta_risk.loc[x + 1,'ID_country_name'] and ccta_risk.loc[x, 'ID_year'] - ccta_risk.loc[x + 1,'ID_year'] == -1):\n",
    "       ccta_risk.loc[x, 'CCTA_next'] = ccta_risk.loc[x + 1, 'CCTA']"
   ]
  },
  {
   "cell_type": "code",
   "execution_count": 16,
   "metadata": {},
   "outputs": [
    {
     "name": "stderr",
     "output_type": "stream",
     "text": [
      "C:\\Users\\ricke\\AppData\\Local\\Packages\\PythonSoftwareFoundation.Python.3.9_qbz5n2kfra8p0\\LocalCache\\local-packages\\Python39\\site-packages\\pandas\\core\\indexing.py:1684: SettingWithCopyWarning: \n",
      "A value is trying to be set on a copy of a slice from a DataFrame.\n",
      "Try using .loc[row_indexer,col_indexer] = value instead\n",
      "\n",
      "See the caveats in the documentation: https://pandas.pydata.org/pandas-docs/stable/user_guide/indexing.html#returning-a-view-versus-a-copy\n",
      "  self.obj[key] = infer_fill_value(value)\n",
      "C:\\Users\\ricke\\AppData\\Local\\Packages\\PythonSoftwareFoundation.Python.3.9_qbz5n2kfra8p0\\LocalCache\\local-packages\\Python39\\site-packages\\pandas\\core\\indexing.py:1817: SettingWithCopyWarning: \n",
      "A value is trying to be set on a copy of a slice from a DataFrame.\n",
      "Try using .loc[row_indexer,col_indexer] = value instead\n",
      "\n",
      "See the caveats in the documentation: https://pandas.pydata.org/pandas-docs/stable/user_guide/indexing.html#returning-a-view-versus-a-copy\n",
      "  self._setitem_single_column(loc, value, pi)\n"
     ]
    }
   ],
   "source": [
    "## this aggregates the total number of CCTAs globally \n",
    "\n",
    "## this will be used for a graph\n",
    "\n",
    "years = gtd['iyear'].unique()\n",
    "for year in years:\n",
    "    ## new dataframe with just one year at a time\n",
    "    temp_df = gtd[ gtd['iyear'] == year]\n",
    "\n",
    "    ## getting dataframe with number of rows equal to number of related incidents\n",
    "    gtd.loc[gtd['iyear'] == year, 'CCTAs'] = temp_df.drop_duplicates(subset=['related'], keep='last').shape[0]\n",
    "\n",
    "\n",
    "\n",
    "## this is bringing up that weird error about copy of a slice\n",
    "# for year in years[:48]: \n",
    "#     ## make a column for the number of related incidents the next year\n",
    "#     ## note: does not include 2019 due to lack of data on 2020\n",
    "#     gtd.loc[gtd['iyear'] == year, 'CCTAs_next'] = gtd.loc[gtd['iyear'] == int(year) +1 ]['CCTAs'].min()\n",
    "\n",
    "## for every row in the dataframe\n",
    "for x in range(0, years[len(years)-2]):\n",
    "\n",
    "    if (gtd.loc[x, 'country_txt'] == gtd.loc[x + 1,'country_txt'] and gtd.loc[x, 'iyear'] - gtd.loc[x + 1,'iyear'] == -1):\n",
    "       gtd.loc[x, 'CCTAs_next'] = gtd.loc[x + 1, 'CCTAs']\n",
    "    "
   ]
  },
  {
   "cell_type": "code",
   "execution_count": 17,
   "metadata": {},
   "outputs": [],
   "source": [
    "## gonna use for graphs\n",
    "global_CCTAs = gtd.loc[:,['iyear', 'CCTAs', 'CCTAs_next']].drop_duplicates() ## use this for mapping"
   ]
  },
  {
   "cell_type": "code",
   "execution_count": 32,
   "metadata": {},
   "outputs": [],
   "source": [
    "global_CCTAs = global_CCTAs.sort_values('iyear', ascending=True)"
   ]
  },
  {
   "cell_type": "code",
   "execution_count": 33,
   "metadata": {},
   "outputs": [
    {
     "data": {
      "text/html": [
       "<div>\n",
       "<style scoped>\n",
       "    .dataframe tbody tr th:only-of-type {\n",
       "        vertical-align: middle;\n",
       "    }\n",
       "\n",
       "    .dataframe tbody tr th {\n",
       "        vertical-align: top;\n",
       "    }\n",
       "\n",
       "    .dataframe thead th {\n",
       "        text-align: right;\n",
       "    }\n",
       "</style>\n",
       "<table border=\"1\" class=\"dataframe\">\n",
       "  <thead>\n",
       "    <tr style=\"text-align: right;\">\n",
       "      <th></th>\n",
       "      <th>iyear</th>\n",
       "      <th>CCTAs</th>\n",
       "      <th>CCTAs_next</th>\n",
       "    </tr>\n",
       "  </thead>\n",
       "  <tbody>\n",
       "    <tr>\n",
       "      <th>650</th>\n",
       "      <td>1970</td>\n",
       "      <td>35.0</td>\n",
       "      <td>14.0</td>\n",
       "    </tr>\n",
       "    <tr>\n",
       "      <th>0</th>\n",
       "      <td>1970</td>\n",
       "      <td>35.0</td>\n",
       "      <td>NaN</td>\n",
       "    </tr>\n",
       "    <tr>\n",
       "      <th>651</th>\n",
       "      <td>1971</td>\n",
       "      <td>14.0</td>\n",
       "      <td>NaN</td>\n",
       "    </tr>\n",
       "    <tr>\n",
       "      <th>1122</th>\n",
       "      <td>1972</td>\n",
       "      <td>7.0</td>\n",
       "      <td>NaN</td>\n",
       "    </tr>\n",
       "    <tr>\n",
       "      <th>1690</th>\n",
       "      <td>1973</td>\n",
       "      <td>3.0</td>\n",
       "      <td>NaN</td>\n",
       "    </tr>\n",
       "    <tr>\n",
       "      <th>2163</th>\n",
       "      <td>1974</td>\n",
       "      <td>10.0</td>\n",
       "      <td>NaN</td>\n",
       "    </tr>\n",
       "    <tr>\n",
       "      <th>2744</th>\n",
       "      <td>1975</td>\n",
       "      <td>6.0</td>\n",
       "      <td>NaN</td>\n",
       "    </tr>\n",
       "    <tr>\n",
       "      <th>3484</th>\n",
       "      <td>1976</td>\n",
       "      <td>10.0</td>\n",
       "      <td>NaN</td>\n",
       "    </tr>\n",
       "    <tr>\n",
       "      <th>4407</th>\n",
       "      <td>1977</td>\n",
       "      <td>23.0</td>\n",
       "      <td>NaN</td>\n",
       "    </tr>\n",
       "    <tr>\n",
       "      <th>5726</th>\n",
       "      <td>1978</td>\n",
       "      <td>12.0</td>\n",
       "      <td>NaN</td>\n",
       "    </tr>\n",
       "    <tr>\n",
       "      <th>7252</th>\n",
       "      <td>1979</td>\n",
       "      <td>29.0</td>\n",
       "      <td>NaN</td>\n",
       "    </tr>\n",
       "    <tr>\n",
       "      <th>9914</th>\n",
       "      <td>1980</td>\n",
       "      <td>4.0</td>\n",
       "      <td>NaN</td>\n",
       "    </tr>\n",
       "    <tr>\n",
       "      <th>12575</th>\n",
       "      <td>1981</td>\n",
       "      <td>7.0</td>\n",
       "      <td>NaN</td>\n",
       "    </tr>\n",
       "    <tr>\n",
       "      <th>15162</th>\n",
       "      <td>1982</td>\n",
       "      <td>8.0</td>\n",
       "      <td>NaN</td>\n",
       "    </tr>\n",
       "    <tr>\n",
       "      <th>17705</th>\n",
       "      <td>1983</td>\n",
       "      <td>15.0</td>\n",
       "      <td>NaN</td>\n",
       "    </tr>\n",
       "    <tr>\n",
       "      <th>20575</th>\n",
       "      <td>1984</td>\n",
       "      <td>70.0</td>\n",
       "      <td>NaN</td>\n",
       "    </tr>\n",
       "    <tr>\n",
       "      <th>24070</th>\n",
       "      <td>1985</td>\n",
       "      <td>86.0</td>\n",
       "      <td>NaN</td>\n",
       "    </tr>\n",
       "    <tr>\n",
       "      <th>13025</th>\n",
       "      <td>1986</td>\n",
       "      <td>105.0</td>\n",
       "      <td>NaN</td>\n",
       "    </tr>\n",
       "    <tr>\n",
       "      <th>27064</th>\n",
       "      <td>1987</td>\n",
       "      <td>154.0</td>\n",
       "      <td>NaN</td>\n",
       "    </tr>\n",
       "    <tr>\n",
       "      <th>33026</th>\n",
       "      <td>1988</td>\n",
       "      <td>104.0</td>\n",
       "      <td>NaN</td>\n",
       "    </tr>\n",
       "    <tr>\n",
       "      <th>36746</th>\n",
       "      <td>1989</td>\n",
       "      <td>111.0</td>\n",
       "      <td>NaN</td>\n",
       "    </tr>\n",
       "    <tr>\n",
       "      <th>41070</th>\n",
       "      <td>1990</td>\n",
       "      <td>114.0</td>\n",
       "      <td>NaN</td>\n",
       "    </tr>\n",
       "    <tr>\n",
       "      <th>41334</th>\n",
       "      <td>1991</td>\n",
       "      <td>123.0</td>\n",
       "      <td>NaN</td>\n",
       "    </tr>\n",
       "    <tr>\n",
       "      <th>49639</th>\n",
       "      <td>1992</td>\n",
       "      <td>115.0</td>\n",
       "      <td>NaN</td>\n",
       "    </tr>\n",
       "    <tr>\n",
       "      <th>54710</th>\n",
       "      <td>1994</td>\n",
       "      <td>68.0</td>\n",
       "      <td>NaN</td>\n",
       "    </tr>\n",
       "    <tr>\n",
       "      <th>58166</th>\n",
       "      <td>1995</td>\n",
       "      <td>57.0</td>\n",
       "      <td>NaN</td>\n",
       "    </tr>\n",
       "    <tr>\n",
       "      <th>61247</th>\n",
       "      <td>1996</td>\n",
       "      <td>112.0</td>\n",
       "      <td>NaN</td>\n",
       "    </tr>\n",
       "    <tr>\n",
       "      <th>64305</th>\n",
       "      <td>1997</td>\n",
       "      <td>117.0</td>\n",
       "      <td>NaN</td>\n",
       "    </tr>\n",
       "    <tr>\n",
       "      <th>67503</th>\n",
       "      <td>1998</td>\n",
       "      <td>91.0</td>\n",
       "      <td>NaN</td>\n",
       "    </tr>\n",
       "    <tr>\n",
       "      <th>68437</th>\n",
       "      <td>1999</td>\n",
       "      <td>96.0</td>\n",
       "      <td>NaN</td>\n",
       "    </tr>\n",
       "    <tr>\n",
       "      <th>69832</th>\n",
       "      <td>2000</td>\n",
       "      <td>117.0</td>\n",
       "      <td>NaN</td>\n",
       "    </tr>\n",
       "    <tr>\n",
       "      <th>71656</th>\n",
       "      <td>2001</td>\n",
       "      <td>102.0</td>\n",
       "      <td>NaN</td>\n",
       "    </tr>\n",
       "    <tr>\n",
       "      <th>73568</th>\n",
       "      <td>2002</td>\n",
       "      <td>76.0</td>\n",
       "      <td>NaN</td>\n",
       "    </tr>\n",
       "    <tr>\n",
       "      <th>74897</th>\n",
       "      <td>2003</td>\n",
       "      <td>77.0</td>\n",
       "      <td>NaN</td>\n",
       "    </tr>\n",
       "    <tr>\n",
       "      <th>76176</th>\n",
       "      <td>2004</td>\n",
       "      <td>56.0</td>\n",
       "      <td>NaN</td>\n",
       "    </tr>\n",
       "    <tr>\n",
       "      <th>77340</th>\n",
       "      <td>2005</td>\n",
       "      <td>93.0</td>\n",
       "      <td>NaN</td>\n",
       "    </tr>\n",
       "    <tr>\n",
       "      <th>79356</th>\n",
       "      <td>2006</td>\n",
       "      <td>92.0</td>\n",
       "      <td>NaN</td>\n",
       "    </tr>\n",
       "    <tr>\n",
       "      <th>82114</th>\n",
       "      <td>2007</td>\n",
       "      <td>90.0</td>\n",
       "      <td>NaN</td>\n",
       "    </tr>\n",
       "    <tr>\n",
       "      <th>85359</th>\n",
       "      <td>2008</td>\n",
       "      <td>129.0</td>\n",
       "      <td>NaN</td>\n",
       "    </tr>\n",
       "    <tr>\n",
       "      <th>90160</th>\n",
       "      <td>2009</td>\n",
       "      <td>121.0</td>\n",
       "      <td>NaN</td>\n",
       "    </tr>\n",
       "    <tr>\n",
       "      <th>94883</th>\n",
       "      <td>2010</td>\n",
       "      <td>195.0</td>\n",
       "      <td>NaN</td>\n",
       "    </tr>\n",
       "    <tr>\n",
       "      <th>99710</th>\n",
       "      <td>2011</td>\n",
       "      <td>179.0</td>\n",
       "      <td>NaN</td>\n",
       "    </tr>\n",
       "    <tr>\n",
       "      <th>104786</th>\n",
       "      <td>2012</td>\n",
       "      <td>393.0</td>\n",
       "      <td>NaN</td>\n",
       "    </tr>\n",
       "    <tr>\n",
       "      <th>113306</th>\n",
       "      <td>2013</td>\n",
       "      <td>721.0</td>\n",
       "      <td>NaN</td>\n",
       "    </tr>\n",
       "    <tr>\n",
       "      <th>125350</th>\n",
       "      <td>2014</td>\n",
       "      <td>976.0</td>\n",
       "      <td>NaN</td>\n",
       "    </tr>\n",
       "    <tr>\n",
       "      <th>141253</th>\n",
       "      <td>2015</td>\n",
       "      <td>901.0</td>\n",
       "      <td>NaN</td>\n",
       "    </tr>\n",
       "    <tr>\n",
       "      <th>157442</th>\n",
       "      <td>2016</td>\n",
       "      <td>855.0</td>\n",
       "      <td>NaN</td>\n",
       "    </tr>\n",
       "    <tr>\n",
       "      <th>171003</th>\n",
       "      <td>2017</td>\n",
       "      <td>738.0</td>\n",
       "      <td>NaN</td>\n",
       "    </tr>\n",
       "    <tr>\n",
       "      <th>182848</th>\n",
       "      <td>2018</td>\n",
       "      <td>599.0</td>\n",
       "      <td>NaN</td>\n",
       "    </tr>\n",
       "    <tr>\n",
       "      <th>192675</th>\n",
       "      <td>2019</td>\n",
       "      <td>608.0</td>\n",
       "      <td>NaN</td>\n",
       "    </tr>\n",
       "  </tbody>\n",
       "</table>\n",
       "</div>"
      ],
      "text/plain": [
       "        iyear  CCTAs  CCTAs_next\n",
       "650      1970   35.0        14.0\n",
       "0        1970   35.0         NaN\n",
       "651      1971   14.0         NaN\n",
       "1122     1972    7.0         NaN\n",
       "1690     1973    3.0         NaN\n",
       "2163     1974   10.0         NaN\n",
       "2744     1975    6.0         NaN\n",
       "3484     1976   10.0         NaN\n",
       "4407     1977   23.0         NaN\n",
       "5726     1978   12.0         NaN\n",
       "7252     1979   29.0         NaN\n",
       "9914     1980    4.0         NaN\n",
       "12575    1981    7.0         NaN\n",
       "15162    1982    8.0         NaN\n",
       "17705    1983   15.0         NaN\n",
       "20575    1984   70.0         NaN\n",
       "24070    1985   86.0         NaN\n",
       "13025    1986  105.0         NaN\n",
       "27064    1987  154.0         NaN\n",
       "33026    1988  104.0         NaN\n",
       "36746    1989  111.0         NaN\n",
       "41070    1990  114.0         NaN\n",
       "41334    1991  123.0         NaN\n",
       "49639    1992  115.0         NaN\n",
       "54710    1994   68.0         NaN\n",
       "58166    1995   57.0         NaN\n",
       "61247    1996  112.0         NaN\n",
       "64305    1997  117.0         NaN\n",
       "67503    1998   91.0         NaN\n",
       "68437    1999   96.0         NaN\n",
       "69832    2000  117.0         NaN\n",
       "71656    2001  102.0         NaN\n",
       "73568    2002   76.0         NaN\n",
       "74897    2003   77.0         NaN\n",
       "76176    2004   56.0         NaN\n",
       "77340    2005   93.0         NaN\n",
       "79356    2006   92.0         NaN\n",
       "82114    2007   90.0         NaN\n",
       "85359    2008  129.0         NaN\n",
       "90160    2009  121.0         NaN\n",
       "94883    2010  195.0         NaN\n",
       "99710    2011  179.0         NaN\n",
       "104786   2012  393.0         NaN\n",
       "113306   2013  721.0         NaN\n",
       "125350   2014  976.0         NaN\n",
       "141253   2015  901.0         NaN\n",
       "157442   2016  855.0         NaN\n",
       "171003   2017  738.0         NaN\n",
       "182848   2018  599.0         NaN\n",
       "192675   2019  608.0         NaN"
      ]
     },
     "execution_count": 33,
     "metadata": {},
     "output_type": "execute_result"
    }
   ],
   "source": [
    "global_CCTAs"
   ]
  },
  {
   "cell_type": "code",
   "execution_count": 47,
   "metadata": {},
   "outputs": [
    {
     "data": {
      "text/plain": [
       "[<matplotlib.lines.Line2D at 0x13423c21100>]"
      ]
     },
     "execution_count": 47,
     "metadata": {},
     "output_type": "execute_result"
    },
    {
     "data": {
      "image/png": "[encoded data removed]",
      "text/plain": [
       "<Figure size 1152x648 with 1 Axes>"
      ]
     },
     "metadata": {
      "needs_background": "light"
     },
     "output_type": "display_data"
    }
   ],
   "source": [
    "size = (16, 9)\n",
    "fig, ax = plt.subplots(figsize=size)\n",
    "# ax.axis('off')\n",
    "plt.rcParams['font.sans-serif'] = 'Times New Roman'\n",
    "plt.title('Global CCTAs Overtime', size=16, loc='center')\n",
    "plt.xticks(size=14)\n",
    "plt.xlabel('Years', size=20)\n",
    "plt.ylabel('Number of CCTAs', size=20)\n",
    "plt.yticks(size=14)\n",
    "plt.plot(global_CCTAs['iyear'], global_CCTAs['CCTAs'], linewidth=3)"
   ]
  },
  {
   "cell_type": "code",
   "execution_count": 37,
   "metadata": {},
   "outputs": [
    {
     "ename": "KeyError",
     "evalue": "\"['CCTAs' 'CCTAs_next'] not found in axis\"",
     "output_type": "error",
     "traceback": [
      "\u001b[1;31m---------------------------------------------------------------------------\u001b[0m",
      "\u001b[1;31mKeyError\u001b[0m                                  Traceback (most recent call last)",
      "\u001b[1;32m~\\AppData\\Local\\Temp/ipykernel_5784/3269957619.py\u001b[0m in \u001b[0;36m<module>\u001b[1;34m\u001b[0m\n\u001b[1;32m----> 1\u001b[1;33m \u001b[0mgtd\u001b[0m \u001b[1;33m=\u001b[0m \u001b[0mgtd\u001b[0m\u001b[1;33m.\u001b[0m\u001b[0mdrop\u001b[0m\u001b[1;33m(\u001b[0m\u001b[1;33m[\u001b[0m\u001b[1;34m'CCTAs'\u001b[0m\u001b[1;33m,\u001b[0m \u001b[1;34m'CCTAs_next'\u001b[0m\u001b[1;33m]\u001b[0m\u001b[1;33m,\u001b[0m \u001b[0maxis\u001b[0m\u001b[1;33m=\u001b[0m\u001b[1;36m1\u001b[0m\u001b[1;33m)\u001b[0m\u001b[1;33m\u001b[0m\u001b[1;33m\u001b[0m\u001b[0m\n\u001b[0m",
      "\u001b[1;32m~\\AppData\\Local\\Packages\\PythonSoftwareFoundation.Python.3.9_qbz5n2kfra8p0\\LocalCache\\local-packages\\Python39\\site-packages\\pandas\\util\\_decorators.py\u001b[0m in \u001b[0;36mwrapper\u001b[1;34m(*args, **kwargs)\u001b[0m\n\u001b[0;32m    309\u001b[0m                     \u001b[0mstacklevel\u001b[0m\u001b[1;33m=\u001b[0m\u001b[0mstacklevel\u001b[0m\u001b[1;33m,\u001b[0m\u001b[1;33m\u001b[0m\u001b[1;33m\u001b[0m\u001b[0m\n\u001b[0;32m    310\u001b[0m                 )\n\u001b[1;32m--> 311\u001b[1;33m             \u001b[1;32mreturn\u001b[0m \u001b[0mfunc\u001b[0m\u001b[1;33m(\u001b[0m\u001b[1;33m*\u001b[0m\u001b[0margs\u001b[0m\u001b[1;33m,\u001b[0m \u001b[1;33m**\u001b[0m\u001b[0mkwargs\u001b[0m\u001b[1;33m)\u001b[0m\u001b[1;33m\u001b[0m\u001b[1;33m\u001b[0m\u001b[0m\n\u001b[0m\u001b[0;32m    312\u001b[0m \u001b[1;33m\u001b[0m\u001b[0m\n\u001b[0;32m    313\u001b[0m         \u001b[1;32mreturn\u001b[0m \u001b[0mwrapper\u001b[0m\u001b[1;33m\u001b[0m\u001b[1;33m\u001b[0m\u001b[0m\n",
      "\u001b[1;32m~\\AppData\\Local\\Packages\\PythonSoftwareFoundation.Python.3.9_qbz5n2kfra8p0\\LocalCache\\local-packages\\Python39\\site-packages\\pandas\\core\\frame.py\u001b[0m in \u001b[0;36mdrop\u001b[1;34m(self, labels, axis, index, columns, level, inplace, errors)\u001b[0m\n\u001b[0;32m   4899\u001b[0m                 \u001b[0mweight\u001b[0m  \u001b[1;36m1.0\u001b[0m     \u001b[1;36m0.8\u001b[0m\u001b[1;33m\u001b[0m\u001b[1;33m\u001b[0m\u001b[0m\n\u001b[0;32m   4900\u001b[0m         \"\"\"\n\u001b[1;32m-> 4901\u001b[1;33m         return super().drop(\n\u001b[0m\u001b[0;32m   4902\u001b[0m             \u001b[0mlabels\u001b[0m\u001b[1;33m=\u001b[0m\u001b[0mlabels\u001b[0m\u001b[1;33m,\u001b[0m\u001b[1;33m\u001b[0m\u001b[1;33m\u001b[0m\u001b[0m\n\u001b[0;32m   4903\u001b[0m             \u001b[0maxis\u001b[0m\u001b[1;33m=\u001b[0m\u001b[0maxis\u001b[0m\u001b[1;33m,\u001b[0m\u001b[1;33m\u001b[0m\u001b[1;33m\u001b[0m\u001b[0m\n",
      "\u001b[1;32m~\\AppData\\Local\\Packages\\PythonSoftwareFoundation.Python.3.9_qbz5n2kfra8p0\\LocalCache\\local-packages\\Python39\\site-packages\\pandas\\core\\generic.py\u001b[0m in \u001b[0;36mdrop\u001b[1;34m(self, labels, axis, index, columns, level, inplace, errors)\u001b[0m\n\u001b[0;32m   4148\u001b[0m         \u001b[1;32mfor\u001b[0m \u001b[0maxis\u001b[0m\u001b[1;33m,\u001b[0m \u001b[0mlabels\u001b[0m \u001b[1;32min\u001b[0m \u001b[0maxes\u001b[0m\u001b[1;33m.\u001b[0m\u001b[0mitems\u001b[0m\u001b[1;33m(\u001b[0m\u001b[1;33m)\u001b[0m\u001b[1;33m:\u001b[0m\u001b[1;33m\u001b[0m\u001b[1;33m\u001b[0m\u001b[0m\n\u001b[0;32m   4149\u001b[0m             \u001b[1;32mif\u001b[0m \u001b[0mlabels\u001b[0m \u001b[1;32mis\u001b[0m \u001b[1;32mnot\u001b[0m \u001b[1;32mNone\u001b[0m\u001b[1;33m:\u001b[0m\u001b[1;33m\u001b[0m\u001b[1;33m\u001b[0m\u001b[0m\n\u001b[1;32m-> 4150\u001b[1;33m                 \u001b[0mobj\u001b[0m \u001b[1;33m=\u001b[0m \u001b[0mobj\u001b[0m\u001b[1;33m.\u001b[0m\u001b[0m_drop_axis\u001b[0m\u001b[1;33m(\u001b[0m\u001b[0mlabels\u001b[0m\u001b[1;33m,\u001b[0m \u001b[0maxis\u001b[0m\u001b[1;33m,\u001b[0m \u001b[0mlevel\u001b[0m\u001b[1;33m=\u001b[0m\u001b[0mlevel\u001b[0m\u001b[1;33m,\u001b[0m \u001b[0merrors\u001b[0m\u001b[1;33m=\u001b[0m\u001b[0merrors\u001b[0m\u001b[1;33m)\u001b[0m\u001b[1;33m\u001b[0m\u001b[1;33m\u001b[0m\u001b[0m\n\u001b[0m\u001b[0;32m   4151\u001b[0m \u001b[1;33m\u001b[0m\u001b[0m\n\u001b[0;32m   4152\u001b[0m         \u001b[1;32mif\u001b[0m \u001b[0minplace\u001b[0m\u001b[1;33m:\u001b[0m\u001b[1;33m\u001b[0m\u001b[1;33m\u001b[0m\u001b[0m\n",
      "\u001b[1;32m~\\AppData\\Local\\Packages\\PythonSoftwareFoundation.Python.3.9_qbz5n2kfra8p0\\LocalCache\\local-packages\\Python39\\site-packages\\pandas\\core\\generic.py\u001b[0m in \u001b[0;36m_drop_axis\u001b[1;34m(self, labels, axis, level, errors)\u001b[0m\n\u001b[0;32m   4183\u001b[0m                 \u001b[0mnew_axis\u001b[0m \u001b[1;33m=\u001b[0m \u001b[0maxis\u001b[0m\u001b[1;33m.\u001b[0m\u001b[0mdrop\u001b[0m\u001b[1;33m(\u001b[0m\u001b[0mlabels\u001b[0m\u001b[1;33m,\u001b[0m \u001b[0mlevel\u001b[0m\u001b[1;33m=\u001b[0m\u001b[0mlevel\u001b[0m\u001b[1;33m,\u001b[0m \u001b[0merrors\u001b[0m\u001b[1;33m=\u001b[0m\u001b[0merrors\u001b[0m\u001b[1;33m)\u001b[0m\u001b[1;33m\u001b[0m\u001b[1;33m\u001b[0m\u001b[0m\n\u001b[0;32m   4184\u001b[0m             \u001b[1;32melse\u001b[0m\u001b[1;33m:\u001b[0m\u001b[1;33m\u001b[0m\u001b[1;33m\u001b[0m\u001b[0m\n\u001b[1;32m-> 4185\u001b[1;33m                 \u001b[0mnew_axis\u001b[0m \u001b[1;33m=\u001b[0m \u001b[0maxis\u001b[0m\u001b[1;33m.\u001b[0m\u001b[0mdrop\u001b[0m\u001b[1;33m(\u001b[0m\u001b[0mlabels\u001b[0m\u001b[1;33m,\u001b[0m \u001b[0merrors\u001b[0m\u001b[1;33m=\u001b[0m\u001b[0merrors\u001b[0m\u001b[1;33m)\u001b[0m\u001b[1;33m\u001b[0m\u001b[1;33m\u001b[0m\u001b[0m\n\u001b[0m\u001b[0;32m   4186\u001b[0m             \u001b[0mresult\u001b[0m \u001b[1;33m=\u001b[0m \u001b[0mself\u001b[0m\u001b[1;33m.\u001b[0m\u001b[0mreindex\u001b[0m\u001b[1;33m(\u001b[0m\u001b[1;33m**\u001b[0m\u001b[1;33m{\u001b[0m\u001b[0maxis_name\u001b[0m\u001b[1;33m:\u001b[0m \u001b[0mnew_axis\u001b[0m\u001b[1;33m}\u001b[0m\u001b[1;33m)\u001b[0m\u001b[1;33m\u001b[0m\u001b[1;33m\u001b[0m\u001b[0m\n\u001b[0;32m   4187\u001b[0m \u001b[1;33m\u001b[0m\u001b[0m\n",
      "\u001b[1;32m~\\AppData\\Local\\Packages\\PythonSoftwareFoundation.Python.3.9_qbz5n2kfra8p0\\LocalCache\\local-packages\\Python39\\site-packages\\pandas\\core\\indexes\\base.py\u001b[0m in \u001b[0;36mdrop\u001b[1;34m(self, labels, errors)\u001b[0m\n\u001b[0;32m   6016\u001b[0m         \u001b[1;32mif\u001b[0m \u001b[0mmask\u001b[0m\u001b[1;33m.\u001b[0m\u001b[0many\u001b[0m\u001b[1;33m(\u001b[0m\u001b[1;33m)\u001b[0m\u001b[1;33m:\u001b[0m\u001b[1;33m\u001b[0m\u001b[1;33m\u001b[0m\u001b[0m\n\u001b[0;32m   6017\u001b[0m             \u001b[1;32mif\u001b[0m \u001b[0merrors\u001b[0m \u001b[1;33m!=\u001b[0m \u001b[1;34m\"ignore\"\u001b[0m\u001b[1;33m:\u001b[0m\u001b[1;33m\u001b[0m\u001b[1;33m\u001b[0m\u001b[0m\n\u001b[1;32m-> 6018\u001b[1;33m                 \u001b[1;32mraise\u001b[0m \u001b[0mKeyError\u001b[0m\u001b[1;33m(\u001b[0m\u001b[1;34mf\"{labels[mask]} not found in axis\"\u001b[0m\u001b[1;33m)\u001b[0m\u001b[1;33m\u001b[0m\u001b[1;33m\u001b[0m\u001b[0m\n\u001b[0m\u001b[0;32m   6019\u001b[0m             \u001b[0mindexer\u001b[0m \u001b[1;33m=\u001b[0m \u001b[0mindexer\u001b[0m\u001b[1;33m[\u001b[0m\u001b[1;33m~\u001b[0m\u001b[0mmask\u001b[0m\u001b[1;33m]\u001b[0m\u001b[1;33m\u001b[0m\u001b[1;33m\u001b[0m\u001b[0m\n\u001b[0;32m   6020\u001b[0m         \u001b[1;32mreturn\u001b[0m \u001b[0mself\u001b[0m\u001b[1;33m.\u001b[0m\u001b[0mdelete\u001b[0m\u001b[1;33m(\u001b[0m\u001b[0mindexer\u001b[0m\u001b[1;33m)\u001b[0m\u001b[1;33m\u001b[0m\u001b[1;33m\u001b[0m\u001b[0m\n",
      "\u001b[1;31mKeyError\u001b[0m: \"['CCTAs' 'CCTAs_next'] not found in axis\""
     ]
    }
   ],
   "source": [
    "gtd = gtd.drop(['CCTAs', 'CCTAs_next'], axis=1)"
   ]
  },
  {
   "cell_type": "code",
   "execution_count": 19,
   "metadata": {},
   "outputs": [
    {
     "data": {
      "text/plain": [
       "156379    1\n",
       "Name: individual, dtype: int64"
      ]
     },
     "execution_count": 19,
     "metadata": {},
     "output_type": "execute_result"
    }
   ],
   "source": [
    "gtd_original[ (gtd_original['city'] == 'San Bernardino') & (gtd_original['iyear'] == 2015) ]['individual']"
   ]
  },
  {
   "cell_type": "markdown",
   "metadata": {},
   "source": [
    "#### GTD Cleaning"
   ]
  },
  {
   "cell_type": "code",
   "execution_count": 525,
   "metadata": {},
   "outputs": [],
   "source": [
    "## GTD cleaning\n",
    "\n",
    "\n",
    "## renaming for easier joining \n",
    "gtd.rename(columns = {'country_txt' : 'ID_country_name' ,'iyear':'ID_year'}, inplace= True)\n",
    "\n",
    "\n",
    "## unknown property damage will be coded as missing, also we are reversing the scale, so that the higher number equates higher property damage\n",
    "gtd.replace( {'propextent': {1.0: 3, 2.0: 2, 3.0: 1,4.0 : np.nan}}, inplace = True)\n",
    "\n",
    "\n",
    "## if unidentified or unknown hostages, code as missing\n",
    "gtd.replace( {'nhostkid' : {-99 : np.nan}}, inplace=  True)\n",
    "\n",
    "\n",
    "gtd_variables_to_clean = ['attacktype1_txt', 'attacktype1', \n",
    "                        'weaptype1_txt', 'weaptype1', 'targtype1' , \n",
    "                        'targtype1_txt']\n",
    "## loop through attack, weapon, and target types to remove any unknown elements \n",
    "for variables in gtd_variables_to_clean:\n",
    "    gtd.replace( {variables : {'Unknown' : np.nan, 9 : np.nan, 13 : np.nan, 20 : np.nan}}, inplace=  True)\n",
    "\n",
    "gtd = gtd.merge(ccta_amount, on = ['ID_country_name', 'ID_year'], how = 'inner')\n",
    "gtd = gtd.merge(ccta_risk, on = ['ID_country_name', 'ID_year'], how = 'inner')\n",
    "gtd.drop('related', axis=1, inplace=True)\n",
    "#gtd = gtd[gtd['ID_year'] != 2019]\n",
    "\n",
    "#gtd.head()"
   ]
  },
  {
   "cell_type": "code",
   "execution_count": 526,
   "metadata": {},
   "outputs": [
    {
     "data": {
      "text/plain": [
       "array(['Afghanistan', 'Iraq', 'Nigeria', 'Pakistan', 'Syria', 'Yemen'],\n",
       "      dtype=object)"
      ]
     },
     "execution_count": 526,
     "metadata": {},
     "output_type": "execute_result"
    }
   ],
   "source": [
    "ccta_amount[ ccta_amount['ccta'] > 75]['ID_country_name'].unique()"
   ]
  },
  {
   "cell_type": "code",
   "execution_count": 527,
   "metadata": {},
   "outputs": [
    {
     "data": {
      "text/plain": [
       "array(['Afghanistan', 'Iraq'], dtype=object)"
      ]
     },
     "execution_count": 527,
     "metadata": {},
     "output_type": "execute_result"
    }
   ],
   "source": [
    "ccta_amount[ ccta_amount['ccta'] > 150]['ID_country_name'].unique()"
   ]
  },
  {
   "cell_type": "code",
   "execution_count": 528,
   "metadata": {},
   "outputs": [],
   "source": [
    "#gtd[ (gtd['country_txt'] == 'Pakistan') & (gtd['multiple'] == 1)]['gname'].value_counts()"
   ]
  },
  {
   "cell_type": "code",
   "execution_count": 529,
   "metadata": {},
   "outputs": [],
   "source": [
    "#gtd[ (gtd['country_txt'] == 'Iraq') & (gtd['multiple'] == 1)]['gname'].value_counts()"
   ]
  },
  {
   "cell_type": "markdown",
   "metadata": {},
   "source": [
    "### Global States of Democracy preprocessing"
   ]
  },
  {
   "cell_type": "code",
   "execution_count": 530,
   "metadata": {},
   "outputs": [],
   "source": [
    "## variables in gsod to study\n",
    "gsod_variables = ['ID_country_name', 'ID_year', 'C_SD41', 'v_42_06', 'v_23_05', 'v_23_10', 'v_32_05', 'v_22_46', 'v_23_02', 'v_23_07', 'C_SD23C']\n",
    "\n",
    "## we will rename all the columns in this\n",
    "## the first two rename the same name because these are the names\n",
    "## I will be using to join the datasets \n",
    "gsod_variable_names = [\n",
    "                        'ID_country_name', 'ID_year', 'absence of corruption', 'bureaucratic quality', 'representation of disadvantaged social groups', \n",
    "                        'religious/ethnic tensions', 'law and order', 'internal conflict', \n",
    "                        'social group equality in respect for civil liberties', 'exclusion by political group', 'gender equality'\n",
    "                      ]"
   ]
  },
  {
   "cell_type": "code",
   "execution_count": 531,
   "metadata": {},
   "outputs": [],
   "source": [
    "## choose variables we are going to study from dataset\n",
    "## all variables are on a 0 - 1 scale, no need to normalize\n",
    "gsod = gsod_original[gsod_variables]\n",
    "\n",
    "## rename the columns for ease of joining later \n",
    "## also renamed to understand what the variable represents \n",
    "gsod.columns = gsod_variable_names\n",
    "\n",
    "#gsod.head()"
   ]
  },
  {
   "cell_type": "markdown",
   "metadata": {},
   "source": [
    "### World Governance Indicators preprocessing - Retired Feature"
   ]
  },
  {
   "cell_type": "code",
   "execution_count": 532,
   "metadata": {},
   "outputs": [],
   "source": [
    "#wgi = pd.read_csv(\"WGI.csv\") commented out due to years restrictions \n",
    "\n",
    "## cleaning world governance indicators\n",
    "\n",
    "## extracting wanted variable\n",
    "# wgi[ (wgi['Indicator'] == 'Political Stability No Violence')]\n",
    "\n",
    "# ## dropping unwanted columns\n",
    "# wgi.drop(['Indicator', 'Subindicator Type'], axis=1, inplace = True)\n",
    "\n",
    "# ## making years in the rows and the variable name as the column name\n",
    "# wgi = wgi.melt(id_vars='Country Name', var_name = 'ID_year', value_name = 'Political Stability No Violence')\n",
    "\n",
    "# wgi.rename(columns = {'Country Name' : 'ID_country_name'}, inplace= True)\n",
    "\n",
    "# wgi['ID_year'] = wgi['ID_year'].astype(int)\n",
    "\n",
    "# wgi.head()"
   ]
  },
  {
   "cell_type": "markdown",
   "metadata": {},
   "source": [
    "### Military Expenditure preprocessing"
   ]
  },
  {
   "cell_type": "code",
   "execution_count": 533,
   "metadata": {},
   "outputs": [],
   "source": [
    "## wide format, each column is a year\n",
    "## placing the years as their own singular column without moving the data from it's position \n",
    "military = military_original.melt(id_vars='Country Name', var_name = 'ID_year', value_name = 'Military expenditure')\n",
    "\n",
    "## renaming ID variables for ease of use later,\n",
    "## year was renamed above in the melt function \n",
    "military.rename(columns = {'Country Name': 'ID_country_name'}, inplace= True)\n",
    "\n",
    "\n",
    "## was coming out as a string, changed to be compatible in joining \n",
    "military['ID_year'] = military['ID_year'].astype(int)\n",
    "\n",
    "#military.head()"
   ]
  },
  {
   "cell_type": "markdown",
   "metadata": {},
   "source": [
    "### GDP Per Capita Growth Rate preprocessing"
   ]
  },
  {
   "cell_type": "code",
   "execution_count": 534,
   "metadata": {},
   "outputs": [],
   "source": [
    "## melting the dataset, similar to the previous dataset \n",
    "gdp = gdp_original.melt(id_vars = 'Country Name', var_name = 'ID_year', value_name = 'GDP per Capita')\n",
    "\n",
    "## renaming for joining purposes\n",
    "gdp.rename(columns = {'Country Name' : 'ID_country_name'}, inplace= True)\n",
    "\n",
    "## same problem with the joining as in military\n",
    "gdp['ID_year'] = gdp['ID_year'].astype(int)\n",
    "\n",
    "#gdp.head()"
   ]
  },
  {
   "cell_type": "code",
   "execution_count": 535,
   "metadata": {},
   "outputs": [],
   "source": [
    "worldbank_df = military.merge(gdp, how = 'inner', on = ['ID_country_name', 'ID_year'])"
   ]
  },
  {
   "cell_type": "code",
   "execution_count": 536,
   "metadata": {},
   "outputs": [],
   "source": [
    "#gdp.to_csv('GDPperCapita(% change).csv', header= True, index = False)"
   ]
  },
  {
   "cell_type": "markdown",
   "metadata": {},
   "source": [
    "## Summary Tables"
   ]
  },
  {
   "cell_type": "code",
   "execution_count": 537,
   "metadata": {},
   "outputs": [
    {
     "data": {
      "image/png": "[encoded data removed]",
      "text/plain": [
       "<Figure size 2160x518.4 with 1 Axes>"
      ]
     },
     "metadata": {
      "needs_background": "light"
     },
     "output_type": "display_data"
    },
    {
     "data": {
      "image/png": "[encoded data removed]",
      "text/plain": [
       "<Figure size 2448x518.4 with 1 Axes>"
      ]
     },
     "metadata": {
      "needs_background": "light"
     },
     "output_type": "display_data"
    },
    {
     "data": {
      "image/png": "[encoded data removed]",
      "text/plain": [
       "<Figure size 2016x446.4 with 1 Axes>"
      ]
     },
     "metadata": {
      "needs_background": "light"
     },
     "output_type": "display_data"
    },
    {
     "data": {
      "image/png": "[encoded data removed]",
      "text/plain": [
       "<Figure size 2448x518.4 with 1 Axes>"
      ]
     },
     "metadata": {
      "needs_background": "light"
     },
     "output_type": "display_data"
    },
    {
     "data": {
      "image/png": "[encoded data removed]",
      "text/plain": [
       "<Figure size 1944x518.4 with 1 Axes>"
      ]
     },
     "metadata": {
      "needs_background": "light"
     },
     "output_type": "display_data"
    }
   ],
   "source": [
    "def summary_table(df, columns_to_exclude):\n",
    "    df = df.drop(columns_to_exclude, axis=1)\n",
    "    summary_stats = df.describe().drop(['25%', '50%', '75%'])\n",
    "\n",
    "    summary_stats.loc[len(summary_stats)] = (df.isnull().sum() / len(df)) * 100\n",
    "\n",
    "    summary_stats = summary_stats.T.rename(columns = {5 : 'missing'}).round(2)\n",
    "\n",
    "    summary_stats['missing'] = summary_stats['missing'].apply(lambda x: str(x) + ' \\%')\n",
    "\n",
    "    #summary_stats.insert(0, 'Variable', summary_stats.index)\n",
    "    \n",
    "    #create_summary_table(summary_stats.round(2), summary_table_path + filename)\n",
    "\n",
    "    return summary_stats\n",
    "\n",
    "def plot_summary(df, title):\n",
    "    size = (np.array(df.shape) + np.array([25, .2]))\n",
    "    fig, ax = plt.subplots(figsize=size)\n",
    "    ax.axis('off')\n",
    "    plt.rcParams['font.sans-serif'] = 'Times New Roman'\n",
    "    plt.title(title, size=30, loc='center')\n",
    "\n",
    "    table = plt.table(cellText=df.values, bbox = [0,0,1,1], colLabels=df.columns)\n",
    "    table.auto_set_font_size(False)\n",
    "\n",
    "    \n",
    "    for x in range(0, df.shape[0] + 1):\n",
    "        for y in range(0, df.shape[1]):\n",
    "        \n",
    "        \n",
    "            if x == 0 : ## header\n",
    "                table[x,y].set_text_props(fontproperties=FontProperties(size=25, weight = 'bold'), color = 'white')\n",
    "                table[x,y].set_facecolor('grey')\n",
    "                table[x,y].set_edgecolor('w')\n",
    "                table[x,y].set_fontsize\n",
    "            elif x % 2 == 0 and x != 0: ## every other row will have a light grey \n",
    "                table[x,y].set_text_props(weight='normal', size = '24', color = 'black', ha = 'center', snap = True)\n",
    "                table[x,y].set_facecolor('lightgrey')\n",
    "                table[x,y].set_edgecolor('w')\n",
    "            elif x % 2 == 1: ## odd rows will have white backgrou,nd\n",
    "                table[x,y].set_text_props(weight='normal', size = '24', color = 'black', ha = 'center')\n",
    "                table[x,y].set_edgecolor('w')\n",
    "\n",
    "\n",
    "\n",
    "\n",
    "\n",
    "gtd_target =  gtd[ ['multiple', 'CCTA', 'CCTA_next', 'ccta', 'ccta_next'] ]\n",
    "\n",
    "gtd_target_stats = summary_table(gtd_target, [])\n",
    "\n",
    "\n",
    "gtd_predictors  = gtd.drop(\n",
    "    ['ID_country_name', 'ID_year',  'gname', 'multiple', 'CCTA', 'CCTA_next', 'ccta', 'ccta_next'], \n",
    "    axis=1) \n",
    "\n",
    "\n",
    "\n",
    "gtd_predictors_stats = summary_table(gtd_predictors, \n",
    "                                ['attacktype1_txt', 'attacktype1',  'weaptype1_txt','weaptype1',\n",
    "                                     'targtype1' , 'targtype1_txt'] \n",
    "                                )\n",
    "\n",
    "\n",
    "\n",
    "gtd_predictor_summary_text = gtd_predictors.describe(include=[object])\n",
    "gtd_predictor_summary_text.loc[len(gtd_predictor_summary_text)] = (gtd_predictors[['attacktype1_txt', 'weaptype1_txt', 'targtype1_txt']].isnull().sum() / len(gtd_predictors)) * 100\n",
    "gtd_predictor_summary_text = gtd_predictor_summary_text.T.rename(columns = {4: 'missing'}).round(2)\n",
    "gtd_predictor_summary_text['missing'] = gtd_predictor_summary_text['missing'].apply(lambda x: str(x) + ' \\%')\n",
    "\n",
    "gsod_stats = summary_table(gsod, ['ID_country_name', 'ID_year'])\n",
    "\n",
    "wb_stats = summary_table(worldbank_df, ['ID_country_name', 'ID_year'])\n",
    "\n",
    "for i in ['count', 'min', 'max']:\n",
    "    gtd_target_stats[i] = gtd_target_stats[i].apply(lambda x : '{:,}'.format(x).split('.', 1)[0])\n",
    "    gtd_predictors_stats[i] = gtd_predictors_stats[i].apply(lambda x : '{:,}'.format(x).split('.', 1)[0])\n",
    "    gsod_stats[i] = gsod_stats[i].apply(lambda x:  '{:,}'.format(x).split('.', 1)[0])\n",
    "    wb_stats[i] = wb_stats[i].apply(lambda x :  '{:,}'.format(x).split('.', 1)[0])\n",
    "\n",
    "tables = [gtd_target_stats, gtd_predictors_stats, gtd_predictor_summary_text, gsod_stats, wb_stats]\n",
    "\n",
    "\n",
    "titles = ['GTD Target', 'GTD Predictors (Numerical)' , 'GTD Predictors (Text)', 'GSOD Variables', 'World Bank Variables']\n",
    "for x in np.arange(0,5,1):\n",
    "    tables[x].insert(0, 'Variable', tables[x].index)\n",
    "    plot_summary(tables[x], titles[x])"
   ]
  },
  {
   "cell_type": "code",
   "execution_count": 538,
   "metadata": {},
   "outputs": [],
   "source": [
    "if apa_summary_table == True:\n",
    "    def write_summary_table(df, source , label, text ):\n",
    "        ## write the top of the table\n",
    "\n",
    "        top_dict = {'SOURCE' : source, 'LABEL' : label}\n",
    "        stats_dict = ()\n",
    "        if text == False:\n",
    "            with open(path + 'summary_table_top_template.tex', 'r') as myfile: \n",
    "                text = myfile.read()\n",
    "                for key, value in top_dict.items():\n",
    "                    text = text.replace('$' + key + '$', value) \n",
    "            \n",
    "                with open(table_path + source + '_summary_stats.tex', 'w') as output:\n",
    "                    output.write(text)\n",
    "                    \n",
    "                    ## write rows\n",
    "            for index in df.index:\n",
    "                arr = np.array(df.loc[index])\n",
    "                arr = arr.astype(str)\n",
    "                stats_dict = {'VARIABLE' : index, 'COUNT': df.loc[index]['count'], 'MEAN': df.loc[index]['mean'], 'STD' : df.loc[index]['std'], 'MIN' : df.loc[index]['min'], 'MAX' : df.loc[index]['max'], 'MISSING' : df.loc[index]['missing']}\n",
    "                with open(path + 'summary_row_template.tex', 'r') as myfile:\n",
    "                    text = myfile.read()\n",
    "                    for key, value in stats_dict.items():\n",
    "                        text = text.replace('$' + str(key) + '$', str(value))\n",
    "                    with open(table_path + source + '_summary_stats.tex', 'a') as output:\n",
    "                        output.write('\\n' + text)\n",
    "\n",
    "        if text == True:\n",
    "            with open(path + 'summary_table_text_top_template.tex', 'r') as myfile: \n",
    "                text = myfile.read()\n",
    "                for key, value in top_dict.items():\n",
    "                    text = text.replace('$' + key + '$', value) \n",
    "            \n",
    "                with open(table_path + source + '_summary_stats.tex', 'w') as output:\n",
    "                    output.write(text)\n",
    "            for index in df.index:\n",
    "                arr = np.array(df.loc[index])\n",
    "                arr = arr.astype(str)\n",
    "                stats_dict ={'VARIABLE': index, 'COUNT' : arr[0], 'UNIQUE' : arr[1], 'TOP' : arr[2], 'FREQ' : arr[3], 'MISSING' : df.loc[index]['missing']}\n",
    "                with open(path + 'summary_row_text_template.tex', 'r') as myfile:\n",
    "                    text = myfile.read()\n",
    "                    for key, value in stats_dict.items():\n",
    "                        text = text.replace('$' + str(key )+ '$', str(value))\n",
    "                    with open(table_path + source + '_summary_stats.tex', 'a') as output:\n",
    "                        output.write('\\n' + text)\n",
    "\n",
    "                    \n",
    "                    ## write rows            \n",
    "\n",
    "        ## end the tabular environment\n",
    "        with open(path + 'tabular_end.tex', 'r') as myfile:\n",
    "            text = myfile.read()\n",
    "\n",
    "            with open(table_path + source + '_summary_stats.tex', 'a') as output:\n",
    "                output.write(text + '\\n')\n",
    "\n",
    "\n",
    "        with open(path + 'end_table_template.tex', 'r') as myfile:\n",
    "            text = myfile.read()\n",
    "\n",
    "            with open(table_path + source + '_summary_stats.tex', 'a') as output:\n",
    "                output.write(text)"
   ]
  },
  {
   "cell_type": "code",
   "execution_count": 539,
   "metadata": {},
   "outputs": [],
   "source": [
    "if apa_summary_table == True:\n",
    "    sources = ['GTD Target', 'GTD Predictor (numerical)', 'GTD Predictor (text)', 'GSOD', 'World Bank']\n",
    "    labels = ['GTD(target)', 'GTDPredNum', 'GTDPredText', 'GSOD', 'WorldBank']\n",
    "\n",
    "    for i in np.arange(0,5,1):\n",
    "        if i == 2:\n",
    "            text_table = True\n",
    "        else:\n",
    "            text_table = False\n",
    "        write_summary_table(tables[i], sources[i], labels[i], text_table)"
   ]
  },
  {
   "cell_type": "code",
   "execution_count": 540,
   "metadata": {},
   "outputs": [
    {
     "data": {
      "text/plain": [
       "1.0    159009\n",
       "0.0     26653\n",
       "Name: CCTA_next, dtype: int64"
      ]
     },
     "execution_count": 540,
     "metadata": {},
     "output_type": "execute_result"
    }
   ],
   "source": [
    "gtd['CCTA_next'].value_counts()"
   ]
  },
  {
   "cell_type": "markdown",
   "metadata": {},
   "source": [
    "## Using fillna to compute missing values"
   ]
  },
  {
   "cell_type": "code",
   "execution_count": 541,
   "metadata": {},
   "outputs": [],
   "source": [
    "if missing == 'fillna':   \n",
    "     \n",
    "    military['Military expenditure'].fillna( military['Military expenditure'].mean(), inplace= True)\n",
    "    gdp['GDP per Capita'].fillna( gdp['GDP per Capita'].mean(), inplace = True)\n",
    "    \n",
    "    for variables in gsod.columns[2:]:\n",
    "        gsod[variables].fillna( gsod[variables].mean(), inplace = True)\n",
    "\n",
    "    for variables in gtd[['crit1', 'crit2', 'crit3', 'success','individual', 'nkill', 'nkillter', 'propextent', 'nhostkid', 'ccta',  'CCTA']]:\n",
    "        gtd[variables].fillna( gtd[variables].mean(), inplace= True)\n",
    "\n",
    "    for variables in gtd[['attacktype1', 'weaptype1', 'targtype1', 'CCTA_next', 'ccta_next']]:\n",
    "        gtd[variables].fillna( gtd[variables].mode()[0], inplace= True)"
   ]
  },
  {
   "cell_type": "markdown",
   "metadata": {},
   "source": [
    "## Scaling to [0,1]"
   ]
  },
  {
   "cell_type": "code",
   "execution_count": 542,
   "metadata": {},
   "outputs": [],
   "source": [
    "from sklearn.preprocessing import MinMaxScaler\n",
    "\n",
    "normalizer = MinMaxScaler()"
   ]
  },
  {
   "cell_type": "code",
   "execution_count": 543,
   "metadata": {},
   "outputs": [],
   "source": [
    "def scale(df, column):\n",
    "    df_norm = np.array(df[column]).reshape(-1 , 1)\n",
    "    \n",
    "    normalizer.fit(df_norm)\n",
    "    \n",
    "    df_norm = normalizer.transform(df_norm)\n",
    "\n",
    "    df[column] = df_norm.reshape(1,-1)[0]"
   ]
  },
  {
   "cell_type": "code",
   "execution_count": 544,
   "metadata": {},
   "outputs": [],
   "source": [
    "scale(military, 'Military expenditure')\n",
    "scale(gdp, 'GDP per Capita')\n",
    "\n",
    "for variables in ['attacktype1', 'weaptype1',  'targtype1',  'nkill', 'nkillter', 'propextent', 'nhostkid', 'ccta', 'CCTA']:\n",
    "    scale(gtd, variables)"
   ]
  },
  {
   "cell_type": "markdown",
   "metadata": {},
   "source": [
    "## Merging the sets "
   ]
  },
  {
   "cell_type": "code",
   "execution_count": 545,
   "metadata": {},
   "outputs": [],
   "source": [
    "#  data for classification\n",
    "merged_df = gtd.drop(['attacktype1_txt', 'weaptype1_txt', 'targtype1_txt'], axis=1).merge(\n",
    "    gsod, how='inner', on = merge_col).merge(\n",
    "        military, how='inner', on=merge_col).merge(\n",
    "            gdp, how='inner', on = merge_col)"
   ]
  },
  {
   "cell_type": "code",
   "execution_count": 546,
   "metadata": {},
   "outputs": [],
   "source": [
    "## we don't want the year 2019 because we don't have any target information \n",
    "\n",
    "\n",
    "## dropping 2019 from the  dataset\n",
    "drop_2019 = merged_df[ merged_df['ID_year'] != 2019]\n",
    "model_df = drop_2019.drop(merge_col, axis=1)"
   ]
  },
  {
   "cell_type": "code",
   "execution_count": 547,
   "metadata": {},
   "outputs": [
    {
     "data": {
      "text/plain": [
       "(29,)"
      ]
     },
     "execution_count": 547,
     "metadata": {},
     "output_type": "execute_result"
    }
   ],
   "source": [
    "model_df.columns.shape"
   ]
  },
  {
   "cell_type": "markdown",
   "metadata": {},
   "source": [
    "## Target Selection"
   ]
  },
  {
   "cell_type": "code",
   "execution_count": 548,
   "metadata": {},
   "outputs": [],
   "source": [
    "if target_variable == 'CCTA_next':\n",
    "    model_df2 = model_df.drop(['ccta', 'ccta_next'], axis=1)\n",
    "\n",
    "if target_variable == 'ccta_next':\n",
    "    model_df2 = model_df.drop(['CCTA', 'CCTA_next'], axis=1)"
   ]
  },
  {
   "cell_type": "markdown",
   "metadata": {},
   "source": [
    "# Finding Correlated Features"
   ]
  },
  {
   "cell_type": "code",
   "execution_count": 549,
   "metadata": {},
   "outputs": [],
   "source": [
    "if (run_correlation == True):\n",
    "\n",
    "                                ##targetvariable        ## correlation limit, absolute value\n",
    "    def feature_correlation(df, target, correlation_limit):\n",
    "        correlated_features = list()\n",
    "        correlation_matrix = df.corr()\n",
    "        #correlation_matrix = df.drop(target, axis=1).corr()\n",
    "\n",
    "        for i in range(len(correlation_matrix.columns)): \n",
    "            for j in range(i):                          \n",
    "                if correlation_matrix.iloc[i, j] > correlation_limit:\n",
    "                    colname = correlation_matrix.columns[i]\n",
    "                    rowname = correlation_matrix.index[j]\n",
    "                    correlated_features.append(colname + ' '+ str(correlation_matrix.iloc[i,j]) + ' ' + rowname)\n",
    "                elif correlation_matrix.iloc[i,j] < np.negative(correlation_limit): \n",
    "                    colname = correlation_matrix.columns[i]\n",
    "                    rowname = correlation_matrix.index[j]\n",
    "                    correlated_features.append(colname + ' '+ str(correlation_matrix.iloc[i,j]))\n",
    "        return correlated_features\n",
    "\n",
    "\n",
    "    correlated_features = feature_correlation(model_df.drop([target_variable, target_variable.replace('_next', '')], axis=1), target_variable, corr_limit)\n",
    "\n",
    "    "
   ]
  },
  {
   "cell_type": "code",
   "execution_count": 550,
   "metadata": {},
   "outputs": [
    {
     "data": {
      "text/plain": [
       "['bureaucratic quality 0.7329349039773513 absence of corruption',\n",
       " 'internal conflict 0.6686202619332912 law and order',\n",
       " 'exclusion by political group 0.6697665212836975 absence of corruption',\n",
       " 'gender equality 0.6711755020991954 absence of corruption',\n",
       " 'gender equality 0.7159850204831768 exclusion by political group']"
      ]
     },
     "execution_count": 550,
     "metadata": {},
     "output_type": "execute_result"
    }
   ],
   "source": [
    "correlated_features"
   ]
  },
  {
   "cell_type": "code",
   "execution_count": 551,
   "metadata": {},
   "outputs": [],
   "source": [
    "\n",
    "## both targets have the same features correlated\n",
    "## ccta_next is correlated with ccta ( not the case for risk )\n",
    "## it gets removed later in the splitting phase anyways\n",
    "\n",
    "model_df2 = model_df2.drop(['law and order', 'absence of corruption', 'exclusion by political group'], axis = 1)"
   ]
  },
  {
   "cell_type": "code",
   "execution_count": 552,
   "metadata": {},
   "outputs": [],
   "source": [
    "## dropping group name! interested, but haven't gotten to it yet!\n",
    "model_df2.drop('gname', axis=1, inplace=True) ## dropping this for knn"
   ]
  },
  {
   "cell_type": "markdown",
   "metadata": {},
   "source": [
    "## KNN missing data impute"
   ]
  },
  {
   "cell_type": "code",
   "execution_count": 553,
   "metadata": {},
   "outputs": [],
   "source": [
    "## roughly 40-45 minutes to run \n",
    "\n",
    "## the dataframe was saved as a .csv file to be reloaded next time\n",
    "\n",
    "if (missing == 'knn' and run_knn == True):\n",
    "    from sklearn.impute import KNNImputer\n",
    "\n",
    "    imputer = KNNImputer(n_neighbors=3)\n",
    "\n",
    "    model_df_imputed = pd.DataFrame(imputer.fit_transform(model_df2), columns =model_df2.columns)\n",
    "\n",
    "    model_df_imputed.to_csv('Model_DF_KNN_Imputed.csv', header= True, index = False)"
   ]
  },
  {
   "cell_type": "code",
   "execution_count": 554,
   "metadata": {},
   "outputs": [],
   "source": [
    "if use_knn == True:\n",
    "    model_df_imputed = pd.read_csv('Model_DF_KNN_Imputed.csv')\n",
    "\n",
    "    ## getting continuous values from knn imputed data\n",
    "    ## this is keeping model from running\n",
    "\n",
    "    ## .33333 and .666667 rounded down and up respectively\n",
    "    model_df_imputed['CCTA_next'] = model_df_imputed['CCTA_next'].apply(lambda x: 0 if x < .5 else  1)\n",
    "    \n",
    "    ## round up or down to whole number\n",
    "    model_df_imputed['ccta_next'] = model_df_imputed['ccta_next'].round()\n",
    "\n",
    "\n",
    "    model_df2 = model_df_imputed"
   ]
  },
  {
   "cell_type": "markdown",
   "metadata": {},
   "source": [
    "# Models "
   ]
  },
  {
   "cell_type": "code",
   "execution_count": 555,
   "metadata": {},
   "outputs": [],
   "source": [
    "from sklearn.model_selection import train_test_split\n",
    "\n",
    "## models\n",
    "### decision trees\n",
    "from sklearn.ensemble import RandomForestClassifier\n",
    "from sklearn.tree import DecisionTreeClassifier\n",
    "\n",
    "### naive bayes\n",
    "from sklearn.naive_bayes import ComplementNB, MultinomialNB, CategoricalNB\n",
    "\n",
    "### Stochasic Gradient Descent\n",
    "from sklearn.linear_model import SGDClassifier\n",
    "\n",
    "## Multi-Layer Perceptron\n",
    "from sklearn.neural_network import MLPClassifier\n",
    "\n",
    "## scoring measures\n",
    "from sklearn.metrics import accuracy_score, roc_auc_score, confusion_matrix, matthews_corrcoef, recall_score, precision_score, f1_score, cohen_kappa_score\n",
    "\n",
    "## cross validation and kfold \n",
    "from sklearn.model_selection import KFold\n",
    "from sklearn.model_selection import cross_val_score"
   ]
  },
  {
   "cell_type": "code",
   "execution_count": 556,
   "metadata": {},
   "outputs": [],
   "source": [
    "## baselines\n",
    "\n",
    "def baselineAccuracy(df, target):\n",
    "\tif target == 'ccta_next':\n",
    "\t\treturn df[target].mean()\n",
    "\telse: \n",
    "\t\treturn df[target][df[target] == 1].count() /len(df[target]) * 100"
   ]
  },
  {
   "cell_type": "code",
   "execution_count": 557,
   "metadata": {},
   "outputs": [
    {
     "data": {
      "text/plain": [
       "35.151789881452444"
      ]
     },
     "execution_count": 557,
     "metadata": {},
     "output_type": "execute_result"
    }
   ],
   "source": [
    "baselineAccuracy(model_df2, target_variable)"
   ]
  },
  {
   "cell_type": "code",
   "execution_count": 558,
   "metadata": {},
   "outputs": [
    {
     "name": "stdout",
     "output_type": "stream",
     "text": [
      "test  0.3\n",
      "state  2\n"
     ]
    }
   ],
   "source": [
    "print('test ', test)\n",
    "print('state ', state)"
   ]
  },
  {
   "cell_type": "code",
   "execution_count": 559,
   "metadata": {},
   "outputs": [],
   "source": [
    "## split the data into training and testing \n",
    "df_train, df_test = train_test_split(model_df2, test_size = test, random_state = state, shuffle= True)\n",
    "\n",
    "\n",
    "## drop the ccta/CCTA for current year. not correlated with target, however both were always showing up in early RFE exploration\n",
    "## removed just in case!\n",
    "x_train_cat = df_train.drop([target_variable, target_variable.replace('_next', '')]  , axis=1)\n",
    "y_train_cat = df_train[target_variable]\n",
    "\n",
    "x_test_cat = df_test.drop([target_variable, target_variable.replace('_next', '')]  , axis=1)\n",
    "y_test_cat = df_test[target_variable]\n"
   ]
  },
  {
   "cell_type": "markdown",
   "metadata": {},
   "source": [
    "## Decision Tree (C5.0)"
   ]
  },
  {
   "cell_type": "code",
   "execution_count": 590,
   "metadata": {},
   "outputs": [],
   "source": [
    "\n",
    "C50 = DecisionTreeClassifier(criterion = \"entropy\",max_leaf_nodes=100).fit(x_train_cat,y_train_cat)\n",
    "## run the prediciton on training data\n",
    "C50_pred_train = C50.predict(x_train_cat)\n",
    "## score of how accurate model is\n",
    "\n",
    "C50_train_score = '{0:.4f}'.format(C50.score(x_train_cat,y_train_cat) * 100)\n",
    "\n",
    "C50_pred = C50.predict(x_test_cat)\n",
    "\n",
    "C50_test_score = '{0:.4f}'.format(C50.score(x_test_cat,y_test_cat) * 100)"
   ]
  },
  {
   "cell_type": "code",
   "execution_count": 591,
   "metadata": {},
   "outputs": [
    {
     "name": "stdout",
     "output_type": "stream",
     "text": [
      "62.1411\n",
      "62.0092\n"
     ]
    }
   ],
   "source": [
    "print(C50_train_score)\n",
    "print(C50_test_score)"
   ]
  },
  {
   "cell_type": "markdown",
   "metadata": {},
   "source": [
    "## Random Forest Classifier"
   ]
  },
  {
   "cell_type": "code",
   "execution_count": 592,
   "metadata": {},
   "outputs": [],
   "source": [
    "RFC = RandomForestClassifier(n_estimators = 100, criterion = \"entropy\", n_jobs = -1).fit(x_train_cat, y_train_cat)\n",
    "prediction_RFC_train = RFC.predict(x_train_cat)\n",
    "RFC_train_score = '{0:.4f}'.format(RFC.score(x_train_cat, y_train_cat) * 100)\n",
    "RFC_pred = RFC.predict(x_test_cat)"
   ]
  },
  {
   "cell_type": "code",
   "execution_count": 593,
   "metadata": {},
   "outputs": [],
   "source": [
    "RFC_accuracy = accuracy_score(RFC_pred ,y_test_cat)"
   ]
  },
  {
   "cell_type": "code",
   "execution_count": 594,
   "metadata": {},
   "outputs": [
    {
     "name": "stdout",
     "output_type": "stream",
     "text": [
      "RFC Training Accuracy:  98.9982\n",
      "Accuracy Score:  98.63290745386306\n"
     ]
    }
   ],
   "source": [
    "print('RFC Training Accuracy: ', RFC_train_score)\n",
    "print('Accuracy Score: ', RFC_accuracy * 100)"
   ]
  },
  {
   "cell_type": "code",
   "execution_count": 595,
   "metadata": {},
   "outputs": [
    {
     "data": {
      "text/plain": [
       "representation of disadvantaged social groups           0\n",
       "internal conflict                                       0\n",
       "social group equality in respect for civil liberties    0\n",
       "gender equality                                         0\n",
       "Military expenditure                                    0\n",
       "GDP per Capita                                          0\n",
       "dtype: int64"
      ]
     },
     "execution_count": 595,
     "metadata": {},
     "output_type": "execute_result"
    }
   ],
   "source": [
    "x_train_cat.isnull().sum()"
   ]
  },
  {
   "cell_type": "markdown",
   "metadata": {},
   "source": [
    "## SVC - using SGD due to amount of samples"
   ]
  },
  {
   "cell_type": "code",
   "execution_count": 596,
   "metadata": {},
   "outputs": [],
   "source": [
    "SGD = SGDClassifier(loss = 'log', random_state=state,n_jobs=-1).fit(x_train_cat, y_train_cat)"
   ]
  },
  {
   "cell_type": "code",
   "execution_count": 597,
   "metadata": {},
   "outputs": [],
   "source": [
    "SGD_train_pred = SGD.predict(x_train_cat)\n",
    "SGD_train_score = '{0:.4f}'.format(SGD.score(x_train_cat, y_train_cat) * 100)\n",
    "SGD_pred = SGD.predict(x_test_cat)"
   ]
  },
  {
   "cell_type": "code",
   "execution_count": 598,
   "metadata": {},
   "outputs": [
    {
     "name": "stdout",
     "output_type": "stream",
     "text": [
      "SGD Training Accuracy:  19.8858\n",
      "Accuracy Score:  19.891877175582913\n"
     ]
    }
   ],
   "source": [
    "SGD_accuracy = accuracy_score(SGD_pred ,y_test_cat)\n",
    "print('SGD Training Accuracy: ', SGD_train_score)\n",
    "print('Accuracy Score: ', SGD_accuracy * 100)\n",
    "#print('AUC: ', roc_auc_score(SGD_pred, y_test_cat, multi_class = 'ovr'))"
   ]
  },
  {
   "cell_type": "markdown",
   "metadata": {},
   "source": [
    "## Naive Bayes"
   ]
  },
  {
   "cell_type": "code",
   "execution_count": 599,
   "metadata": {},
   "outputs": [],
   "source": [
    "MNB = MultinomialNB().fit(x_train_cat, y_train_cat)\n",
    "CoNB = ComplementNB().fit(x_train_cat, y_train_cat)\n",
    "CaNB = CategoricalNB().fit(x_train_cat, y_train_cat)\n",
    "\n"
   ]
  },
  {
   "cell_type": "code",
   "execution_count": 600,
   "metadata": {},
   "outputs": [],
   "source": [
    "Canb = CaNB.predict(x_train_cat)\n",
    "\n",
    "CaNB_train_score = '{0:.4f}'.format(CaNB.score(x_train_cat, y_train_cat) * 100)\n",
    "\n",
    "CaNB_pred = CaNB.predict(x_test_cat)"
   ]
  },
  {
   "cell_type": "code",
   "execution_count": 601,
   "metadata": {},
   "outputs": [
    {
     "name": "stdout",
     "output_type": "stream",
     "text": [
      "13.8159\n",
      "13.83816580129514\n"
     ]
    }
   ],
   "source": [
    "print(CaNB_train_score)\n",
    "print(CaNB.score(x_test_cat, y_test_cat) * 100)"
   ]
  },
  {
   "cell_type": "code",
   "execution_count": 602,
   "metadata": {},
   "outputs": [],
   "source": [
    "Conb = CoNB.predict(x_train_cat)\n",
    "\n",
    "CoNB_train_score = '{0:.4f}'.format(CoNB.score(x_train_cat, y_train_cat) * 100)\n",
    "\n",
    "CoNB_pred = CoNB.predict(x_test_cat)"
   ]
  },
  {
   "cell_type": "code",
   "execution_count": 603,
   "metadata": {},
   "outputs": [
    {
     "name": "stdout",
     "output_type": "stream",
     "text": [
      "16.3479\n",
      "16.19119849094763\n"
     ]
    }
   ],
   "source": [
    "print(CoNB_train_score)\n",
    "print(CoNB.score(x_test_cat, y_test_cat) * 100)"
   ]
  },
  {
   "cell_type": "code",
   "execution_count": 604,
   "metadata": {},
   "outputs": [],
   "source": [
    "MNB_train_pred = MNB.predict(x_train_cat)\n",
    "\n",
    "MNB_train_score = '{0:.4f}'.format(MNB.score(x_train_cat, y_train_cat) * 100)\n",
    "\n",
    "MNB_pred = MNB.predict(x_test_cat)"
   ]
  },
  {
   "cell_type": "code",
   "execution_count": 605,
   "metadata": {},
   "outputs": [
    {
     "name": "stdout",
     "output_type": "stream",
     "text": [
      "13.8109\n",
      "13.845944421756801\n"
     ]
    }
   ],
   "source": [
    "print(MNB_train_score)\n",
    "print(MNB.score(x_test_cat, y_test_cat) * 100)"
   ]
  },
  {
   "cell_type": "markdown",
   "metadata": {},
   "source": [
    "## Neural Network"
   ]
  },
  {
   "cell_type": "code",
   "execution_count": 606,
   "metadata": {},
   "outputs": [
    {
     "name": "stderr",
     "output_type": "stream",
     "text": [
      "C:\\Users\\ricke\\AppData\\Local\\Packages\\PythonSoftwareFoundation.Python.3.9_qbz5n2kfra8p0\\LocalCache\\local-packages\\Python39\\site-packages\\sklearn\\neural_network\\_multilayer_perceptron.py:614: ConvergenceWarning: Stochastic Optimizer: Maximum iterations (100) reached and the optimization hasn't converged yet.\n",
      "  warnings.warn(\n"
     ]
    }
   ],
   "source": [
    "MLP = MLPClassifier(hidden_layer_sizes=(600,), batch_size = 200, activation='relu', solver='adam', max_iter=100)\n",
    "\n",
    "MLP.fit(x_train_cat,y_train_cat)\n",
    "\n",
    "\n",
    "MLP_train_pred = MLP.predict(x_train_cat)\n",
    "\n",
    "MLP_pred = MLP.predict(x_test_cat)"
   ]
  },
  {
   "cell_type": "code",
   "execution_count": 607,
   "metadata": {},
   "outputs": [
    {
     "name": "stdout",
     "output_type": "stream",
     "text": [
      "0.8011251406425803\n"
     ]
    }
   ],
   "source": [
    "print(accuracy_score(MLP_train_pred, y_train_cat))"
   ]
  },
  {
   "cell_type": "code",
   "execution_count": 608,
   "metadata": {},
   "outputs": [
    {
     "name": "stdout",
     "output_type": "stream",
     "text": [
      "0.7970946852575695\n"
     ]
    }
   ],
   "source": [
    "print(MLP.score(x_test_cat, y_test_cat))\n",
    "#print(roc_auc_score(MLP_pred, y_test_cat, multi_class='ovr'))"
   ]
  },
  {
   "cell_type": "code",
   "execution_count": 609,
   "metadata": {},
   "outputs": [
    {
     "name": "stdout",
     "output_type": "stream",
     "text": [
      "0.854888187263219\n"
     ]
    }
   ],
   "source": [
    "print(f1_score(MLP_pred, y_test_cat, average='macro'))"
   ]
  },
  {
   "cell_type": "markdown",
   "metadata": {},
   "source": [
    "## Scoring"
   ]
  },
  {
   "cell_type": "code",
   "execution_count": 610,
   "metadata": {},
   "outputs": [],
   "source": [
    "## binary target \n",
    "\n",
    "## auc \n",
    "## confusion matrix\n",
    "## accuracy\n",
    "## recall, precision, f1 score\n",
    "\n",
    "## number of attacks\n",
    "\n",
    "## Coehn Kappa Score (Accuracy but accounts for predicting true positive by chance)\n",
    "## Mathew's Correlation Coeeficient\n",
    "## auc\n",
    "## f1"
   ]
  },
  {
   "cell_type": "code",
   "execution_count": 611,
   "metadata": {},
   "outputs": [],
   "source": [
    "def scoring(rnd, \n",
    "predictions = [C50_pred, RFC_pred, SGD_pred, MNB_pred, MLP_pred], \n",
    "models = ['CART5.0', 'Random Forest', 'Stochastic Gradient Descent', 'Multinomial Naive Bayes', 'Multi-layer Perceptron'], \n",
    "y = y_test_cat):\n",
    "\n",
    "\n",
    "    ## take in all predictions from the models and get various scores\n",
    "    if target_variable == 'CCTA_next':\n",
    "\n",
    "        scores = pd.DataFrame( columns = ['Model', 'Accuracy', 'ROC_AUC', 'F1 Score', 'Precision', 'Recall'])\n",
    "        newrow = dict()\n",
    "        for x in np.arange(0,5,1):\n",
    "            newrow = {'Model' : models[x], \n",
    "                    'Accuracy' : accuracy_score(y, predictions[x]), \n",
    "                    'ROC_AUC' : roc_auc_score(y, predictions[x]), \n",
    "                    'F1 Score' : f1_score(y, predictions[x]), \n",
    "                    'Precision': precision_score(y, predictions[x]), \n",
    "                    'Recall' : recall_score(y, predictions[x])\n",
    "                    }  \n",
    "            scores = scores.append(newrow, ignore_index = True)\n",
    "\n",
    "    elif target_variable == 'ccta_next': \n",
    "        scores = pd.DataFrame( columns = ['Model', 'Cohen Kappa', 'ROC_AUC','F1Score', 'Precision', 'Recall'])\n",
    "        newrow = dict()\n",
    "        for x in np.arange(0,5,1):\n",
    "            newrow = {'Model' : models[x], \n",
    "                    'Cohen Kappa' : cohen_kappa_score(y, predictions[x]), \n",
    "                    'ROC_AUC' : '---', \n",
    "                    'Matcoef' : '---',\n",
    "                    'F1Score' : f1_score(y, predictions[x], average='macro'), \n",
    "                    'Precision': precision_score(y, predictions[x], average='macro'), \n",
    "                    'Recall' : recall_score(y, predictions[x], average='macro')\n",
    "                    }  \n",
    "            scores = scores.append(newrow, ignore_index = True)    \n",
    "\n",
    "    if rnd == True:\n",
    "        return scores.round(2)\n",
    "    else:\n",
    "        return scores"
   ]
  },
  {
   "cell_type": "code",
   "execution_count": 612,
   "metadata": {},
   "outputs": [
    {
     "name": "stderr",
     "output_type": "stream",
     "text": [
      "C:\\Users\\ricke\\AppData\\Local\\Packages\\PythonSoftwareFoundation.Python.3.9_qbz5n2kfra8p0\\LocalCache\\local-packages\\Python39\\site-packages\\sklearn\\metrics\\_classification.py:1248: UndefinedMetricWarning: Precision is ill-defined and being set to 0.0 in labels with no predicted samples. Use `zero_division` parameter to control this behavior.\n",
      "  _warn_prf(average, modifier, msg_start, len(result))\n",
      "C:\\Users\\ricke\\AppData\\Local\\Packages\\PythonSoftwareFoundation.Python.3.9_qbz5n2kfra8p0\\LocalCache\\local-packages\\Python39\\site-packages\\sklearn\\metrics\\_classification.py:1248: UndefinedMetricWarning: Precision is ill-defined and being set to 0.0 in labels with no predicted samples. Use `zero_division` parameter to control this behavior.\n",
      "  _warn_prf(average, modifier, msg_start, len(result))\n",
      "C:\\Users\\ricke\\AppData\\Local\\Packages\\PythonSoftwareFoundation.Python.3.9_qbz5n2kfra8p0\\LocalCache\\local-packages\\Python39\\site-packages\\sklearn\\metrics\\_classification.py:1248: UndefinedMetricWarning: Precision is ill-defined and being set to 0.0 in labels with no predicted samples. Use `zero_division` parameter to control this behavior.\n",
      "  _warn_prf(average, modifier, msg_start, len(result))\n",
      "C:\\Users\\ricke\\AppData\\Local\\Packages\\PythonSoftwareFoundation.Python.3.9_qbz5n2kfra8p0\\LocalCache\\local-packages\\Python39\\site-packages\\sklearn\\metrics\\_classification.py:1248: UndefinedMetricWarning: Precision is ill-defined and being set to 0.0 in labels with no predicted samples. Use `zero_division` parameter to control this behavior.\n",
      "  _warn_prf(average, modifier, msg_start, len(result))\n",
      "C:\\Users\\ricke\\AppData\\Local\\Packages\\PythonSoftwareFoundation.Python.3.9_qbz5n2kfra8p0\\LocalCache\\local-packages\\Python39\\site-packages\\sklearn\\metrics\\_classification.py:1248: UndefinedMetricWarning: Precision is ill-defined and being set to 0.0 in labels with no predicted samples. Use `zero_division` parameter to control this behavior.\n",
      "  _warn_prf(average, modifier, msg_start, len(result))\n"
     ]
    }
   ],
   "source": [
    "scores_df = scoring(False)"
   ]
  },
  {
   "cell_type": "code",
   "execution_count": 613,
   "metadata": {},
   "outputs": [
    {
     "data": {
      "text/html": [
       "<div>\n",
       "<style scoped>\n",
       "    .dataframe tbody tr th:only-of-type {\n",
       "        vertical-align: middle;\n",
       "    }\n",
       "\n",
       "    .dataframe tbody tr th {\n",
       "        vertical-align: top;\n",
       "    }\n",
       "\n",
       "    .dataframe thead th {\n",
       "        text-align: right;\n",
       "    }\n",
       "</style>\n",
       "<table border=\"1\" class=\"dataframe\">\n",
       "  <thead>\n",
       "    <tr style=\"text-align: right;\">\n",
       "      <th></th>\n",
       "      <th>Model</th>\n",
       "      <th>Cohen Kappa</th>\n",
       "      <th>ROC_AUC</th>\n",
       "      <th>F1Score</th>\n",
       "      <th>Precision</th>\n",
       "      <th>Recall</th>\n",
       "      <th>Matcoef</th>\n",
       "    </tr>\n",
       "  </thead>\n",
       "  <tbody>\n",
       "    <tr>\n",
       "      <th>0</th>\n",
       "      <td>CART5.0</td>\n",
       "      <td>0.602579</td>\n",
       "      <td>---</td>\n",
       "      <td>0.577937</td>\n",
       "      <td>0.564572</td>\n",
       "      <td>0.642105</td>\n",
       "      <td>---</td>\n",
       "    </tr>\n",
       "    <tr>\n",
       "      <th>1</th>\n",
       "      <td>Random Forest</td>\n",
       "      <td>0.985739</td>\n",
       "      <td>---</td>\n",
       "      <td>0.951920</td>\n",
       "      <td>0.953089</td>\n",
       "      <td>0.950861</td>\n",
       "      <td>---</td>\n",
       "    </tr>\n",
       "    <tr>\n",
       "      <th>2</th>\n",
       "      <td>Stochastic Gradient Descent</td>\n",
       "      <td>0.106748</td>\n",
       "      <td>---</td>\n",
       "      <td>0.028233</td>\n",
       "      <td>0.024908</td>\n",
       "      <td>0.053393</td>\n",
       "      <td>---</td>\n",
       "    </tr>\n",
       "    <tr>\n",
       "      <th>3</th>\n",
       "      <td>Multinomial Naive Bayes</td>\n",
       "      <td>0.000000</td>\n",
       "      <td>---</td>\n",
       "      <td>0.003475</td>\n",
       "      <td>0.001978</td>\n",
       "      <td>0.014286</td>\n",
       "      <td>---</td>\n",
       "    </tr>\n",
       "    <tr>\n",
       "      <th>4</th>\n",
       "      <td>Multi-layer Perceptron</td>\n",
       "      <td>0.787408</td>\n",
       "      <td>---</td>\n",
       "      <td>0.854888</td>\n",
       "      <td>0.863086</td>\n",
       "      <td>0.853835</td>\n",
       "      <td>---</td>\n",
       "    </tr>\n",
       "  </tbody>\n",
       "</table>\n",
       "</div>"
      ],
      "text/plain": [
       "                         Model  Cohen Kappa ROC_AUC   F1Score  Precision  \\\n",
       "0                      CART5.0     0.602579     ---  0.577937   0.564572   \n",
       "1                Random Forest     0.985739     ---  0.951920   0.953089   \n",
       "2  Stochastic Gradient Descent     0.106748     ---  0.028233   0.024908   \n",
       "3      Multinomial Naive Bayes     0.000000     ---  0.003475   0.001978   \n",
       "4       Multi-layer Perceptron     0.787408     ---  0.854888   0.863086   \n",
       "\n",
       "     Recall Matcoef  \n",
       "0  0.642105     ---  \n",
       "1  0.950861     ---  \n",
       "2  0.053393     ---  \n",
       "3  0.014286     ---  \n",
       "4  0.853835     ---  "
      ]
     },
     "execution_count": 613,
     "metadata": {},
     "output_type": "execute_result"
    }
   ],
   "source": [
    "scores_df"
   ]
  },
  {
   "cell_type": "code",
   "execution_count": 614,
   "metadata": {},
   "outputs": [],
   "source": [
    "def model_apa_table(df, filename, target, label):\n",
    "    if target == 'CCTA_next':\n",
    "        with open(path + 'model_table_top.tex', 'r') as myfile:\n",
    "            text = myfile.read()\n",
    "\n",
    "            text = text.replace('$' + 'LABEL' + '$', label)\n",
    "\n",
    "        with open(table_path + filename, 'w') as output:\n",
    "            output.write(text)## write top of table\n",
    "\n",
    "        with open(path + 'target_header_template.tex', 'r') as myfile:\n",
    "            text = myfile.read()\n",
    "\n",
    "            text = text.replace('$' + 'TARGET' + '$', target)\n",
    "\n",
    "            with open(table_path + filename, 'a') as output:\n",
    "                output.write(text)\n",
    "\n",
    "        score_dict = dict()\n",
    "        for index in df.index:\n",
    "            arr = np.array(df.loc[index])\n",
    "            arr = arr.astype(str)\n",
    "            score_dict = {'MODEL' : arr[0], 'ACCURACY': arr[1], 'ROCAUC' : arr[2],\n",
    "                    'F1SCORE' : arr[3], 'PRECISION' : arr[4], 'RECALL' : arr[5]}\n",
    "            with open(path + 'score_row_template.tex', 'r') as myfile:\n",
    "                text = myfile.read()\n",
    "                for key, value in score_dict.items():\n",
    "                    text = text.replace('$' + key + '$', value)\n",
    "                with open(table_path + filename, 'a') as output:\n",
    "                    output.write('\\n' + text)\n",
    "\n",
    "    if target == 'ccta_next':\n",
    "        with open( path + 'model_top_ccta.tex', 'r') as myfile:\n",
    "            text = myfile.read()\n",
    "\n",
    "            text = text.replace('$LABEL$', label)\n",
    "\n",
    "            with open(table_path + filename, 'w') as output:\n",
    "                output.write(text)\n",
    "\n",
    "        with open(path + 'target_header_template.tex', 'r') as myfile:\n",
    "            text = myfile.read()\n",
    "\n",
    "            text = text.replace('$TARGET$', target)\n",
    "\n",
    "            with open(table_path + filename, 'a') as output:\n",
    "                output.write(text)\n",
    "\n",
    "        score_dict = dict()\n",
    "        for index in df.index:\n",
    "            arr = np.array(df.loc[index])\n",
    "            arr = arr.astype(str)\n",
    "            score_dict = {'MODEL' : arr[0], 'COHENKAPPA': arr[1], 'ROCAUC' : arr[2], 'MATCOEF'\n",
    "                'F1SCORE' : arr[4], 'PRECISION' : arr[5], 'RECALL' : arr[6]}\n",
    "            with open(path + 'score_row_ccta.tex', 'r') as myfile:\n",
    "                text = myfile.read()\n",
    "                for key, value in score_dict.items():\n",
    "                    text = text.replace('$' + key + '$', value)\n",
    "                with open(table_path + filename, 'a') as output:\n",
    "                    output.write('\\n' + text)\n",
    "\n",
    "    ## end the tabular environment\n",
    "    with open(path + 'tabular_end.tex', 'r') as myfile:\n",
    "        text = myfile.read()\n",
    "\n",
    "        with open(table_path + filename, 'a') as output:\n",
    "            output.write('\\n' + text)\n",
    "\n",
    "\n",
    "    with open(path + 'end_table_template.tex', 'r') as myfile:\n",
    "        text = myfile.read()\n",
    "\n",
    "        with open(table_path + filename, 'a') as output:\n",
    "            output.write(text)\n",
    "    "
   ]
  },
  {
   "cell_type": "code",
   "execution_count": 620,
   "metadata": {},
   "outputs": [],
   "source": [
    "model_apa_table(scores_df, 'knn_RFE_amount.tex', target_variable, 'amount1')"
   ]
  },
  {
   "cell_type": "markdown",
   "metadata": {},
   "source": [
    "# Analysis"
   ]
  },
  {
   "cell_type": "code",
   "execution_count": 619,
   "metadata": {},
   "outputs": [
    {
     "data": {
      "text/html": [
       "<div>\n",
       "<style scoped>\n",
       "    .dataframe tbody tr th:only-of-type {\n",
       "        vertical-align: middle;\n",
       "    }\n",
       "\n",
       "    .dataframe tbody tr th {\n",
       "        vertical-align: top;\n",
       "    }\n",
       "\n",
       "    .dataframe thead th {\n",
       "        text-align: right;\n",
       "    }\n",
       "</style>\n",
       "<table border=\"1\" class=\"dataframe\">\n",
       "  <thead>\n",
       "    <tr style=\"text-align: right;\">\n",
       "      <th></th>\n",
       "      <th>Model</th>\n",
       "      <th>Cohen Kappa</th>\n",
       "      <th>ROC_AUC</th>\n",
       "      <th>F1Score</th>\n",
       "      <th>Precision</th>\n",
       "      <th>Recall</th>\n",
       "      <th>Matcoef</th>\n",
       "    </tr>\n",
       "  </thead>\n",
       "  <tbody>\n",
       "    <tr>\n",
       "      <th>0</th>\n",
       "      <td>CART5.0</td>\n",
       "      <td>0.602579</td>\n",
       "      <td>---</td>\n",
       "      <td>0.577937</td>\n",
       "      <td>0.564572</td>\n",
       "      <td>0.642105</td>\n",
       "      <td>---</td>\n",
       "    </tr>\n",
       "    <tr>\n",
       "      <th>1</th>\n",
       "      <td>Random Forest</td>\n",
       "      <td>0.985739</td>\n",
       "      <td>---</td>\n",
       "      <td>0.951920</td>\n",
       "      <td>0.953089</td>\n",
       "      <td>0.950861</td>\n",
       "      <td>---</td>\n",
       "    </tr>\n",
       "    <tr>\n",
       "      <th>2</th>\n",
       "      <td>Stochastic Gradient Descent</td>\n",
       "      <td>0.106748</td>\n",
       "      <td>---</td>\n",
       "      <td>0.028233</td>\n",
       "      <td>0.024908</td>\n",
       "      <td>0.053393</td>\n",
       "      <td>---</td>\n",
       "    </tr>\n",
       "    <tr>\n",
       "      <th>3</th>\n",
       "      <td>Multinomial Naive Bayes</td>\n",
       "      <td>0.000000</td>\n",
       "      <td>---</td>\n",
       "      <td>0.003475</td>\n",
       "      <td>0.001978</td>\n",
       "      <td>0.014286</td>\n",
       "      <td>---</td>\n",
       "    </tr>\n",
       "    <tr>\n",
       "      <th>4</th>\n",
       "      <td>Multi-layer Perceptron</td>\n",
       "      <td>0.787408</td>\n",
       "      <td>---</td>\n",
       "      <td>0.854888</td>\n",
       "      <td>0.863086</td>\n",
       "      <td>0.853835</td>\n",
       "      <td>---</td>\n",
       "    </tr>\n",
       "  </tbody>\n",
       "</table>\n",
       "</div>"
      ],
      "text/plain": [
       "                         Model  Cohen Kappa ROC_AUC   F1Score  Precision  \\\n",
       "0                      CART5.0     0.602579     ---  0.577937   0.564572   \n",
       "1                Random Forest     0.985739     ---  0.951920   0.953089   \n",
       "2  Stochastic Gradient Descent     0.106748     ---  0.028233   0.024908   \n",
       "3      Multinomial Naive Bayes     0.000000     ---  0.003475   0.001978   \n",
       "4       Multi-layer Perceptron     0.787408     ---  0.854888   0.863086   \n",
       "\n",
       "     Recall Matcoef  \n",
       "0  0.642105     ---  \n",
       "1  0.950861     ---  \n",
       "2  0.053393     ---  \n",
       "3  0.014286     ---  \n",
       "4  0.853835     ---  "
      ]
     },
     "execution_count": 619,
     "metadata": {},
     "output_type": "execute_result"
    }
   ],
   "source": [
    "#knn_rfe_amount = scores_df\n",
    "#knn_rfe_amount.to_csv('knn_rfe_amount.csv', header=True, index=False)\n",
    "\n",
    "knn_rfe_amount = pd.read_csv('knn_rfe_amount.csv')\n",
    "knn_rfe_amount"
   ]
  },
  {
   "cell_type": "code",
   "execution_count": 588,
   "metadata": {},
   "outputs": [
    {
     "data": {
      "text/html": [
       "<div>\n",
       "<style scoped>\n",
       "    .dataframe tbody tr th:only-of-type {\n",
       "        vertical-align: middle;\n",
       "    }\n",
       "\n",
       "    .dataframe tbody tr th {\n",
       "        vertical-align: top;\n",
       "    }\n",
       "\n",
       "    .dataframe thead th {\n",
       "        text-align: right;\n",
       "    }\n",
       "</style>\n",
       "<table border=\"1\" class=\"dataframe\">\n",
       "  <thead>\n",
       "    <tr style=\"text-align: right;\">\n",
       "      <th></th>\n",
       "      <th>Model</th>\n",
       "      <th>Cohen Kappa</th>\n",
       "      <th>ROC_AUC</th>\n",
       "      <th>F1Score</th>\n",
       "      <th>Precision</th>\n",
       "      <th>Recall</th>\n",
       "      <th>Matcoef</th>\n",
       "    </tr>\n",
       "  </thead>\n",
       "  <tbody>\n",
       "    <tr>\n",
       "      <th>0</th>\n",
       "      <td>CART5.0</td>\n",
       "      <td>0.697915</td>\n",
       "      <td>---</td>\n",
       "      <td>0.595132</td>\n",
       "      <td>0.574316</td>\n",
       "      <td>0.642396</td>\n",
       "      <td>---</td>\n",
       "    </tr>\n",
       "    <tr>\n",
       "      <th>1</th>\n",
       "      <td>Random Forest</td>\n",
       "      <td>0.994788</td>\n",
       "      <td>---</td>\n",
       "      <td>0.997385</td>\n",
       "      <td>0.997572</td>\n",
       "      <td>0.997209</td>\n",
       "      <td>---</td>\n",
       "    </tr>\n",
       "    <tr>\n",
       "      <th>2</th>\n",
       "      <td>Stochastic Gradient Descent</td>\n",
       "      <td>0.277264</td>\n",
       "      <td>---</td>\n",
       "      <td>0.094218</td>\n",
       "      <td>0.132588</td>\n",
       "      <td>0.116236</td>\n",
       "      <td>---</td>\n",
       "    </tr>\n",
       "    <tr>\n",
       "      <th>3</th>\n",
       "      <td>Multinomial Naive Bayes</td>\n",
       "      <td>0.141367</td>\n",
       "      <td>---</td>\n",
       "      <td>0.017327</td>\n",
       "      <td>0.038116</td>\n",
       "      <td>0.028656</td>\n",
       "      <td>---</td>\n",
       "    </tr>\n",
       "    <tr>\n",
       "      <th>4</th>\n",
       "      <td>Multi-layer Perceptron</td>\n",
       "      <td>0.892611</td>\n",
       "      <td>---</td>\n",
       "      <td>0.891847</td>\n",
       "      <td>0.900844</td>\n",
       "      <td>0.887955</td>\n",
       "      <td>---</td>\n",
       "    </tr>\n",
       "  </tbody>\n",
       "</table>\n",
       "</div>"
      ],
      "text/plain": [
       "                         Model  Cohen Kappa ROC_AUC   F1Score  Precision  \\\n",
       "0                      CART5.0     0.697915     ---  0.595132   0.574316   \n",
       "1                Random Forest     0.994788     ---  0.997385   0.997572   \n",
       "2  Stochastic Gradient Descent     0.277264     ---  0.094218   0.132588   \n",
       "3      Multinomial Naive Bayes     0.141367     ---  0.017327   0.038116   \n",
       "4       Multi-layer Perceptron     0.892611     ---  0.891847   0.900844   \n",
       "\n",
       "     Recall Matcoef  \n",
       "0  0.642396     ---  \n",
       "1  0.997209     ---  \n",
       "2  0.116236     ---  \n",
       "3  0.028656     ---  \n",
       "4  0.887955     ---  "
      ]
     },
     "execution_count": 588,
     "metadata": {},
     "output_type": "execute_result"
    }
   ],
   "source": [
    "#knn_initial_amount = scores_df\n",
    "#knn_initial_amount.to_csv('knn_initial_amount.csv', header=True, index=False)\n",
    "\n",
    "knn_initial_amount = pd.read_csv('knn_initial_amount.csv')\n",
    "knn_initial_amount"
   ]
  },
  {
   "cell_type": "code",
   "execution_count": 454,
   "metadata": {},
   "outputs": [
    {
     "data": {
      "text/html": [
       "<div>\n",
       "<style scoped>\n",
       "    .dataframe tbody tr th:only-of-type {\n",
       "        vertical-align: middle;\n",
       "    }\n",
       "\n",
       "    .dataframe tbody tr th {\n",
       "        vertical-align: top;\n",
       "    }\n",
       "\n",
       "    .dataframe thead th {\n",
       "        text-align: right;\n",
       "    }\n",
       "</style>\n",
       "<table border=\"1\" class=\"dataframe\">\n",
       "  <thead>\n",
       "    <tr style=\"text-align: right;\">\n",
       "      <th></th>\n",
       "      <th>Model</th>\n",
       "      <th>Cohen Kappa</th>\n",
       "      <th>ROC_AUC</th>\n",
       "      <th>F1 Score</th>\n",
       "      <th>Precision</th>\n",
       "      <th>Recall</th>\n",
       "      <th>Mathew's COEF</th>\n",
       "    </tr>\n",
       "  </thead>\n",
       "  <tbody>\n",
       "    <tr>\n",
       "      <th>0</th>\n",
       "      <td>CART5.0</td>\n",
       "      <td>0.619359</td>\n",
       "      <td>---</td>\n",
       "      <td>0.611241</td>\n",
       "      <td>0.591517</td>\n",
       "      <td>0.671669</td>\n",
       "      <td>0.625580</td>\n",
       "    </tr>\n",
       "    <tr>\n",
       "      <th>1</th>\n",
       "      <td>Random Forest</td>\n",
       "      <td>0.997412</td>\n",
       "      <td>---</td>\n",
       "      <td>0.998591</td>\n",
       "      <td>0.998502</td>\n",
       "      <td>0.998691</td>\n",
       "      <td>0.997413</td>\n",
       "    </tr>\n",
       "    <tr>\n",
       "      <th>2</th>\n",
       "      <td>Stochastic Gradient Descent</td>\n",
       "      <td>0.118493</td>\n",
       "      <td>---</td>\n",
       "      <td>0.045834</td>\n",
       "      <td>0.071100</td>\n",
       "      <td>0.066502</td>\n",
       "      <td>0.147829</td>\n",
       "    </tr>\n",
       "    <tr>\n",
       "      <th>3</th>\n",
       "      <td>Multinomial Naive Bayes</td>\n",
       "      <td>0.000000</td>\n",
       "      <td>---</td>\n",
       "      <td>0.004134</td>\n",
       "      <td>0.002399</td>\n",
       "      <td>0.014925</td>\n",
       "      <td>0.000000</td>\n",
       "    </tr>\n",
       "    <tr>\n",
       "      <th>4</th>\n",
       "      <td>Multi-layer Perceptron</td>\n",
       "      <td>0.828761</td>\n",
       "      <td>---</td>\n",
       "      <td>0.902534</td>\n",
       "      <td>0.929152</td>\n",
       "      <td>0.901329</td>\n",
       "      <td>0.831218</td>\n",
       "    </tr>\n",
       "  </tbody>\n",
       "</table>\n",
       "</div>"
      ],
      "text/plain": [
       "                         Model  Cohen Kappa ROC_AUC  F1 Score  Precision  \\\n",
       "0                      CART5.0     0.619359     ---  0.611241   0.591517   \n",
       "1                Random Forest     0.997412     ---  0.998591   0.998502   \n",
       "2  Stochastic Gradient Descent     0.118493     ---  0.045834   0.071100   \n",
       "3      Multinomial Naive Bayes     0.000000     ---  0.004134   0.002399   \n",
       "4       Multi-layer Perceptron     0.828761     ---  0.902534   0.929152   \n",
       "\n",
       "     Recall  Mathew's COEF  \n",
       "0  0.671669       0.625580  \n",
       "1  0.998691       0.997413  \n",
       "2  0.066502       0.147829  \n",
       "3  0.014925       0.000000  \n",
       "4  0.901329       0.831218  "
      ]
     },
     "execution_count": 454,
     "metadata": {},
     "output_type": "execute_result"
    }
   ],
   "source": [
    "#simple_initial_amount = scores_df\n",
    "#simple_initial_amount.to_csv('scores_simple_amount.csv', header=True, index=False)\n",
    "\n",
    "simple_initial_amount = pd.read_csv('scores_simple_amount.csv')\n",
    "simple_initial_amount"
   ]
  },
  {
   "cell_type": "code",
   "execution_count": 77,
   "metadata": {},
   "outputs": [
    {
     "data": {
      "text/html": [
       "<div>\n",
       "<style scoped>\n",
       "    .dataframe tbody tr th:only-of-type {\n",
       "        vertical-align: middle;\n",
       "    }\n",
       "\n",
       "    .dataframe tbody tr th {\n",
       "        vertical-align: top;\n",
       "    }\n",
       "\n",
       "    .dataframe thead th {\n",
       "        text-align: right;\n",
       "    }\n",
       "</style>\n",
       "<table border=\"1\" class=\"dataframe\">\n",
       "  <thead>\n",
       "    <tr style=\"text-align: right;\">\n",
       "      <th></th>\n",
       "      <th>Model</th>\n",
       "      <th>Accuracy</th>\n",
       "      <th>ROC_AUC</th>\n",
       "      <th>F1 Score</th>\n",
       "      <th>Precision</th>\n",
       "      <th>Recall</th>\n",
       "    </tr>\n",
       "  </thead>\n",
       "  <tbody>\n",
       "    <tr>\n",
       "      <th>0</th>\n",
       "      <td>CART5.0</td>\n",
       "      <td>0.952648</td>\n",
       "      <td>0.871462</td>\n",
       "      <td>0.973101</td>\n",
       "      <td>0.966302</td>\n",
       "      <td>0.979997</td>\n",
       "    </tr>\n",
       "    <tr>\n",
       "      <th>1</th>\n",
       "      <td>Random Forest</td>\n",
       "      <td>0.995722</td>\n",
       "      <td>0.991410</td>\n",
       "      <td>0.997552</td>\n",
       "      <td>0.997929</td>\n",
       "      <td>0.997174</td>\n",
       "    </tr>\n",
       "    <tr>\n",
       "      <th>2</th>\n",
       "      <td>Stochastic Gradient Descent</td>\n",
       "      <td>0.873306</td>\n",
       "      <td>0.518621</td>\n",
       "      <td>0.931962</td>\n",
       "      <td>0.878156</td>\n",
       "      <td>0.992791</td>\n",
       "    </tr>\n",
       "    <tr>\n",
       "      <th>3</th>\n",
       "      <td>Multinomial Naive Bayes</td>\n",
       "      <td>0.874006</td>\n",
       "      <td>0.500000</td>\n",
       "      <td>0.932767</td>\n",
       "      <td>0.874006</td>\n",
       "      <td>1.000000</td>\n",
       "    </tr>\n",
       "    <tr>\n",
       "      <th>4</th>\n",
       "      <td>Multi-layer Perceptron</td>\n",
       "      <td>0.933998</td>\n",
       "      <td>0.838469</td>\n",
       "      <td>0.962390</td>\n",
       "      <td>0.958630</td>\n",
       "      <td>0.966180</td>\n",
       "    </tr>\n",
       "  </tbody>\n",
       "</table>\n",
       "</div>"
      ],
      "text/plain": [
       "                         Model  Accuracy   ROC_AUC  F1 Score  Precision  \\\n",
       "0                      CART5.0  0.952648  0.871462  0.973101   0.966302   \n",
       "1                Random Forest  0.995722  0.991410  0.997552   0.997929   \n",
       "2  Stochastic Gradient Descent  0.873306  0.518621  0.931962   0.878156   \n",
       "3      Multinomial Naive Bayes  0.874006  0.500000  0.932767   0.874006   \n",
       "4       Multi-layer Perceptron  0.933998  0.838469  0.962390   0.958630   \n",
       "\n",
       "     Recall  \n",
       "0  0.979997  \n",
       "1  0.997174  \n",
       "2  0.992791  \n",
       "3  1.000000  \n",
       "4  0.966180  "
      ]
     },
     "execution_count": 77,
     "metadata": {},
     "output_type": "execute_result"
    }
   ],
   "source": [
    "# simple_RFE_CCTA = scores_df\n",
    "# simple_RFE_CCTA.to_csv('scores_simple_RFE_CCTA.csv', header=True, index=False)\n",
    "\n",
    "simple_RFE_CCTA_scores = pd.read_csv('scores_simple_RFE_CCTA.csv')\n",
    "simple_RFE_CCTA_scores"
   ]
  },
  {
   "cell_type": "code",
   "execution_count": 78,
   "metadata": {},
   "outputs": [
    {
     "data": {
      "text/html": [
       "<div>\n",
       "<style scoped>\n",
       "    .dataframe tbody tr th:only-of-type {\n",
       "        vertical-align: middle;\n",
       "    }\n",
       "\n",
       "    .dataframe tbody tr th {\n",
       "        vertical-align: top;\n",
       "    }\n",
       "\n",
       "    .dataframe thead th {\n",
       "        text-align: right;\n",
       "    }\n",
       "</style>\n",
       "<table border=\"1\" class=\"dataframe\">\n",
       "  <thead>\n",
       "    <tr style=\"text-align: right;\">\n",
       "      <th></th>\n",
       "      <th>Model</th>\n",
       "      <th>Accuracy</th>\n",
       "      <th>ROC_AUC</th>\n",
       "      <th>F1 Score</th>\n",
       "      <th>Precision</th>\n",
       "      <th>Recall</th>\n",
       "    </tr>\n",
       "  </thead>\n",
       "  <tbody>\n",
       "    <tr>\n",
       "      <th>0</th>\n",
       "      <td>CART5.0</td>\n",
       "      <td>0.955487</td>\n",
       "      <td>0.884446</td>\n",
       "      <td>0.974659</td>\n",
       "      <td>0.969945</td>\n",
       "      <td>0.979419</td>\n",
       "    </tr>\n",
       "    <tr>\n",
       "      <th>1</th>\n",
       "      <td>Random Forest</td>\n",
       "      <td>0.996772</td>\n",
       "      <td>0.993926</td>\n",
       "      <td>0.998152</td>\n",
       "      <td>0.998575</td>\n",
       "      <td>0.997731</td>\n",
       "    </tr>\n",
       "    <tr>\n",
       "      <th>2</th>\n",
       "      <td>Stochastic Gradient Descent</td>\n",
       "      <td>0.873325</td>\n",
       "      <td>0.518632</td>\n",
       "      <td>0.931973</td>\n",
       "      <td>0.878159</td>\n",
       "      <td>0.992813</td>\n",
       "    </tr>\n",
       "    <tr>\n",
       "      <th>3</th>\n",
       "      <td>Multinomial Naive Bayes</td>\n",
       "      <td>0.874006</td>\n",
       "      <td>0.500000</td>\n",
       "      <td>0.932767</td>\n",
       "      <td>0.874006</td>\n",
       "      <td>1.000000</td>\n",
       "    </tr>\n",
       "    <tr>\n",
       "      <th>4</th>\n",
       "      <td>Multi-layer Perceptron</td>\n",
       "      <td>0.931179</td>\n",
       "      <td>0.807531</td>\n",
       "      <td>0.961103</td>\n",
       "      <td>0.949654</td>\n",
       "      <td>0.972833</td>\n",
       "    </tr>\n",
       "  </tbody>\n",
       "</table>\n",
       "</div>"
      ],
      "text/plain": [
       "                         Model  Accuracy   ROC_AUC  F1 Score  Precision  \\\n",
       "0                      CART5.0  0.955487  0.884446  0.974659   0.969945   \n",
       "1                Random Forest  0.996772  0.993926  0.998152   0.998575   \n",
       "2  Stochastic Gradient Descent  0.873325  0.518632  0.931973   0.878159   \n",
       "3      Multinomial Naive Bayes  0.874006  0.500000  0.932767   0.874006   \n",
       "4       Multi-layer Perceptron  0.931179  0.807531  0.961103   0.949654   \n",
       "\n",
       "     Recall  \n",
       "0  0.979419  \n",
       "1  0.997731  \n",
       "2  0.992813  \n",
       "3  1.000000  \n",
       "4  0.972833  "
      ]
     },
     "execution_count": 78,
     "metadata": {},
     "output_type": "execute_result"
    }
   ],
   "source": [
    "# simple_initial_CCTA = scores_df\n",
    "# simple_initial_CCTA.to_csv('scores_simple_CCTA.csv', header=True, index=False)\n",
    "\n",
    "simple_initial_CCTA_scores = pd.read_csv('scores_simple_CCTA.csv')\n",
    "simple_initial_CCTA_scores"
   ]
  },
  {
   "cell_type": "code",
   "execution_count": 165,
   "metadata": {},
   "outputs": [
    {
     "data": {
      "text/html": [
       "<div>\n",
       "<style scoped>\n",
       "    .dataframe tbody tr th:only-of-type {\n",
       "        vertical-align: middle;\n",
       "    }\n",
       "\n",
       "    .dataframe tbody tr th {\n",
       "        vertical-align: top;\n",
       "    }\n",
       "\n",
       "    .dataframe thead th {\n",
       "        text-align: right;\n",
       "    }\n",
       "</style>\n",
       "<table border=\"1\" class=\"dataframe\">\n",
       "  <thead>\n",
       "    <tr style=\"text-align: right;\">\n",
       "      <th></th>\n",
       "      <th>Model</th>\n",
       "      <th>Accuracy</th>\n",
       "      <th>ROC_AUC</th>\n",
       "      <th>F1 Score</th>\n",
       "      <th>Precision</th>\n",
       "      <th>Recall</th>\n",
       "    </tr>\n",
       "  </thead>\n",
       "  <tbody>\n",
       "    <tr>\n",
       "      <th>0</th>\n",
       "      <td>CART5.0</td>\n",
       "      <td>0.945063</td>\n",
       "      <td>0.862436</td>\n",
       "      <td>0.968315</td>\n",
       "      <td>0.959181</td>\n",
       "      <td>0.977624</td>\n",
       "    </tr>\n",
       "    <tr>\n",
       "      <th>1</th>\n",
       "      <td>Random Forest</td>\n",
       "      <td>0.995080</td>\n",
       "      <td>0.991273</td>\n",
       "      <td>0.997134</td>\n",
       "      <td>0.997687</td>\n",
       "      <td>0.996580</td>\n",
       "    </tr>\n",
       "    <tr>\n",
       "      <th>2</th>\n",
       "      <td>Stochastic Gradient Descent</td>\n",
       "      <td>0.857223</td>\n",
       "      <td>0.515599</td>\n",
       "      <td>0.922660</td>\n",
       "      <td>0.862497</td>\n",
       "      <td>0.991847</td>\n",
       "    </tr>\n",
       "    <tr>\n",
       "      <th>3</th>\n",
       "      <td>Multinomial Naive Bayes</td>\n",
       "      <td>0.858662</td>\n",
       "      <td>0.500000</td>\n",
       "      <td>0.923957</td>\n",
       "      <td>0.858662</td>\n",
       "      <td>1.000000</td>\n",
       "    </tr>\n",
       "    <tr>\n",
       "      <th>4</th>\n",
       "      <td>Multi-layer Perceptron</td>\n",
       "      <td>0.946755</td>\n",
       "      <td>0.882157</td>\n",
       "      <td>0.969095</td>\n",
       "      <td>0.965998</td>\n",
       "      <td>0.972212</td>\n",
       "    </tr>\n",
       "  </tbody>\n",
       "</table>\n",
       "</div>"
      ],
      "text/plain": [
       "                         Model  Accuracy   ROC_AUC  F1 Score  Precision  \\\n",
       "0                      CART5.0  0.945063  0.862436  0.968315   0.959181   \n",
       "1                Random Forest  0.995080  0.991273  0.997134   0.997687   \n",
       "2  Stochastic Gradient Descent  0.857223  0.515599  0.922660   0.862497   \n",
       "3      Multinomial Naive Bayes  0.858662  0.500000  0.923957   0.858662   \n",
       "4       Multi-layer Perceptron  0.946755  0.882157  0.969095   0.965998   \n",
       "\n",
       "     Recall  \n",
       "0  0.977624  \n",
       "1  0.996580  \n",
       "2  0.991847  \n",
       "3  1.000000  \n",
       "4  0.972212  "
      ]
     },
     "execution_count": 165,
     "metadata": {},
     "output_type": "execute_result"
    }
   ],
   "source": [
    "# after_RFECV_CCTA = scores_df\n",
    "# after_RFECV_CCTA.to_csv('scores_KNN_RFECV_CCTA.csv', header=True, index=False)\n",
    "\n",
    "knn_RFE_CCTA_scores = pd.read_csv('scores_KNN_RFECV_CCTA.csv')\n",
    "knn_RFE_CCTA_scores"
   ]
  },
  {
   "cell_type": "code",
   "execution_count": 164,
   "metadata": {},
   "outputs": [],
   "source": [
    "model_apa_table(knn_RFE_CCTA_scores, 'knn_RFE_ccta_table.tex', 'KNN Imputation', 'CCTAscores')"
   ]
  },
  {
   "cell_type": "code",
   "execution_count": 80,
   "metadata": {},
   "outputs": [
    {
     "data": {
      "text/html": [
       "<div>\n",
       "<style scoped>\n",
       "    .dataframe tbody tr th:only-of-type {\n",
       "        vertical-align: middle;\n",
       "    }\n",
       "\n",
       "    .dataframe tbody tr th {\n",
       "        vertical-align: top;\n",
       "    }\n",
       "\n",
       "    .dataframe thead th {\n",
       "        text-align: right;\n",
       "    }\n",
       "</style>\n",
       "<table border=\"1\" class=\"dataframe\">\n",
       "  <thead>\n",
       "    <tr style=\"text-align: right;\">\n",
       "      <th></th>\n",
       "      <th>Model</th>\n",
       "      <th>Accuracy</th>\n",
       "      <th>ROC_AUC</th>\n",
       "      <th>F1 Score</th>\n",
       "      <th>Precision</th>\n",
       "      <th>Recall</th>\n",
       "    </tr>\n",
       "  </thead>\n",
       "  <tbody>\n",
       "    <tr>\n",
       "      <th>0</th>\n",
       "      <td>CART5.0</td>\n",
       "      <td>0.945025</td>\n",
       "      <td>0.862356</td>\n",
       "      <td>0.968293</td>\n",
       "      <td>0.959159</td>\n",
       "      <td>0.977602</td>\n",
       "    </tr>\n",
       "    <tr>\n",
       "      <th>1</th>\n",
       "      <td>Random Forest</td>\n",
       "      <td>0.994419</td>\n",
       "      <td>0.989509</td>\n",
       "      <td>0.996749</td>\n",
       "      <td>0.997144</td>\n",
       "      <td>0.996354</td>\n",
       "    </tr>\n",
       "    <tr>\n",
       "      <th>2</th>\n",
       "      <td>Stochastic Gradient Descent</td>\n",
       "      <td>0.858721</td>\n",
       "      <td>0.500206</td>\n",
       "      <td>0.923986</td>\n",
       "      <td>0.858713</td>\n",
       "      <td>1.000000</td>\n",
       "    </tr>\n",
       "    <tr>\n",
       "      <th>3</th>\n",
       "      <td>Multinomial Naive Bayes</td>\n",
       "      <td>0.858662</td>\n",
       "      <td>0.500000</td>\n",
       "      <td>0.923957</td>\n",
       "      <td>0.858662</td>\n",
       "      <td>1.000000</td>\n",
       "    </tr>\n",
       "    <tr>\n",
       "      <th>4</th>\n",
       "      <td>Multi-layer Perceptron</td>\n",
       "      <td>0.944636</td>\n",
       "      <td>0.879486</td>\n",
       "      <td>0.967843</td>\n",
       "      <td>0.965390</td>\n",
       "      <td>0.970309</td>\n",
       "    </tr>\n",
       "  </tbody>\n",
       "</table>\n",
       "</div>"
      ],
      "text/plain": [
       "                         Model  Accuracy   ROC_AUC  F1 Score  Precision  \\\n",
       "0                      CART5.0  0.945025  0.862356  0.968293   0.959159   \n",
       "1                Random Forest  0.994419  0.989509  0.996749   0.997144   \n",
       "2  Stochastic Gradient Descent  0.858721  0.500206  0.923986   0.858713   \n",
       "3      Multinomial Naive Bayes  0.858662  0.500000  0.923957   0.858662   \n",
       "4       Multi-layer Perceptron  0.944636  0.879486  0.967843   0.965390   \n",
       "\n",
       "     Recall  \n",
       "0  0.977602  \n",
       "1  0.996354  \n",
       "2  1.000000  \n",
       "3  1.000000  \n",
       "4  0.970309  "
      ]
     },
     "execution_count": 80,
     "metadata": {},
     "output_type": "execute_result"
    }
   ],
   "source": [
    "# initial_model_CCTA = scores_df\n",
    "# initial_model_CCTA.to_csv('initial_model_CCTA.csv', header=True, index=False)\n",
    "\n",
    "knn_initial_scores = pd.read_csv('initial_model_CCTA.csv')\n",
    "knn_initial_scores\n",
    "\n",
    "## very high random forest, with perfect recall and precision\n",
    "##  and near perfect auc score\n",
    "## double check this with cross validation belo\n",
    "# w\n",
    "\n",
    "\n",
    "## SGD has great recall and f1, but is basically guessing from auc score \n",
    "## NB not that great either, but with perfect recall. \n",
    "#### so both of these are getting all the true positives, but also FPs\n",
    "\n",
    "## Neural Network is looking similar compared to pre-RFE"
   ]
  },
  {
   "cell_type": "code",
   "execution_count": null,
   "metadata": {},
   "outputs": [],
   "source": [
    "#model_apa_table(initial_scores, 'KNN_initial_model.tex', target_variable, '1stmodel')"
   ]
  },
  {
   "cell_type": "code",
   "execution_count": null,
   "metadata": {},
   "outputs": [],
   "source": [
    "## double checking decision tree and random forest\n",
    "from sklearn.model_selection import KFold\n",
    "from sklearn.model_selection import cross_val_score\n",
    "\n",
    "X = model_df2.drop([target_variable, target_variable.replace('_next', '')], axis=1)\n",
    "y = model_df2[target_variable]\n",
    "\n",
    "k = 10\n",
    "crossvalidation = KFold(n_splits=k, random_state=2, shuffle=True)\n",
    "\n",
    "RFC_CV_scores = cross_val_score(RFC, X, y, cv=crossvalidation)\n",
    "\n",
    "C50_CV_scores = cross_val_score(C50, X, y, cv=crossvalidation)"
   ]
  },
  {
   "cell_type": "code",
   "execution_count": null,
   "metadata": {},
   "outputs": [],
   "source": [
    "print(\"RF cross validation scores with k=10: \", RFC_CV_scores)\n",
    "print(\"Average score of all folds:\", round(RFC_CV_scores.mean(), 5))\n",
    "print('RFC Train Score: ', RFC_train_score)"
   ]
  },
  {
   "cell_type": "code",
   "execution_count": null,
   "metadata": {},
   "outputs": [],
   "source": [
    "# RF cross validation scores with k=10:  [0.99533283 0.99509947 0.9966163  0.99568287 0.99504113 0.99568287\n",
    "#  0.99544951 0.99492445 0.99399067 0.99509918]\n",
    "# Average score of all folds: 0.99529\n",
    "# RFC Train Score:  99.9992\n",
    "\n",
    "# knn initial CV "
   ]
  },
  {
   "cell_type": "code",
   "execution_count": null,
   "metadata": {},
   "outputs": [],
   "source": [
    "# RF cross validation scores with k=10:  [0.99702468 0.99760807 0.99714136 0.99702468 0.9971997  0.99696634\n",
    "#  0.99743306 0.99784143 0.99725788 0.99714119]\n",
    "# Average score of all folds: 0.99726\n",
    "# RFC Train Score:  100.0000\n",
    "\n",
    "## simple intitial cv"
   ]
  },
  {
   "cell_type": "code",
   "execution_count": null,
   "metadata": {},
   "outputs": [],
   "source": [
    "print(\"C50 cross validation scores with k=10: \", C50_CV_scores)\n",
    "print(\"Average score of all folds:\", round(C50_CV_scores.mean(), 5))\n",
    "## slightly overfitted\n",
    "print('C50 Train Score: ', C50_train_score)"
   ]
  },
  {
   "cell_type": "code",
   "execution_count": null,
   "metadata": {},
   "outputs": [],
   "source": []
  },
  {
   "cell_type": "markdown",
   "metadata": {},
   "source": [
    "# Recursive Feature Elimination with Cross Validation"
   ]
  },
  {
   "cell_type": "code",
   "execution_count": 455,
   "metadata": {},
   "outputs": [],
   "source": [
    "from sklearn.feature_selection import RFECV\n",
    "def RFE_CV (X, y, estimator, min_features, steps, scoring):\n",
    "    rfecv = RFECV(\n",
    "        estimator = estimator,\n",
    "        min_features_to_select= min_features,\n",
    "        step = steps,\n",
    "        scoring = scoring,\n",
    "        cv = 10,\n",
    "        n_jobs=-1,\n",
    "    )\n",
    "\n",
    "    _ = rfecv.fit(X,y)\n",
    "    \n",
    "    print(X.columns[rfecv.support_])\n",
    "    print(X.columns[rfecv.support_].shape)\n",
    "    print('Optimal number of features: {}'.format(rfecv.n_features_))\n",
    "\n",
    "\n",
    "    plt.figure(figsize=(16, 9))\n",
    "    plt.plot(range(1, len(rfecv.grid_scores_) + 1), rfecv.grid_scores_, color='#303F9F', linewidth=3)\n",
    "    plt.title('Recursive Feature Elimination with 10-Fold Cross-Validation', fontsize=18, fontweight='bold', pad=20)\n",
    "    plt.xlabel('Number of features selected', fontsize=14, labelpad=20)\n",
    "    plt.xticks(np.arange(1, (len(X.columns) + 1)))\n",
    "    plt.ylabel(scoring, fontsize=14, labelpad=20)\n",
    "    #plt.savefig('LR_RFECV.png')\n",
    "    plt.show()"
   ]
  },
  {
   "cell_type": "code",
   "execution_count": 456,
   "metadata": {},
   "outputs": [
    {
     "name": "stdout",
     "output_type": "stream",
     "text": [
      "Index(['representation of disadvantaged social groups', 'internal conflict',\n",
      "       'social group equality in respect for civil liberties',\n",
      "       'gender equality', 'Military expenditure', 'GDP per Capita'],\n",
      "      dtype='object')\n",
      "(6,)\n",
      "Optimal number of features: 6\n"
     ]
    },
    {
     "data": {
      "image/png": "[encoded data removed]",
      "text/plain": [
       "<Figure size 1152x648 with 1 Axes>"
      ]
     },
     "metadata": {
      "needs_background": "light"
     },
     "output_type": "display_data"
    }
   ],
   "source": [
    "RFE_CV(x_train_cat, y_train_cat, RandomForestClassifier(n_jobs=-1), 4, 1, 'accuracy')"
   ]
  },
  {
   "cell_type": "code",
   "execution_count": null,
   "metadata": {},
   "outputs": [],
   "source": [
    "x_train_cat = x_train_cat[['attacktype1', 'targtype1', 'nkillter', 'nhostkid',\n",
    "       'bureaucratic quality', 'representation of disadvantaged social groups',\n",
    "       'religious/ethnic tensions', 'internal conflict',\n",
    "       'social group equality in respect for civil liberties',\n",
    "       'gender equality', 'Military expenditure', 'GDP per Capita']]\n",
    "\n",
    "x_test_cat = x_test_cat[['attacktype1', 'targtype1', 'nkillter', 'nhostkid',\n",
    "       'bureaucratic quality', 'representation of disadvantaged social groups',\n",
    "       'religious/ethnic tensions', 'internal conflict',\n",
    "       'social group equality in respect for civil liberties',\n",
    "       'gender equality', 'Military expenditure', 'GDP per Capita']]\n"
   ]
  },
  {
   "cell_type": "code",
   "execution_count": null,
   "metadata": {},
   "outputs": [],
   "source": [
    "model_df2['nhostkid'].value_counts()"
   ]
  },
  {
   "cell_type": "code",
   "execution_count": 383,
   "metadata": {},
   "outputs": [],
   "source": [
    "x_train_cat = x_train_cat[['internal conflict',\n",
    "       'social group equality in respect for civil liberties',\n",
    "       'gender equality', 'Military expenditure', 'GDP per Capita']]\n",
    "\n",
    "x_test_cat = x_test_cat[['internal conflict',\n",
    "       'social group equality in respect for civil liberties',\n",
    "       'gender equality', 'Military expenditure', 'GDP per Capita']]\n",
    "\n",
    "## simple missing strategy\n",
    "## CCTA as target\n",
    "## RFE_CV(x_train_cat, y_train_cat, RandomForestClassifier(n_jobs=-1), 4, 1, 'accuracy')"
   ]
  },
  {
   "cell_type": "code",
   "execution_count": 589,
   "metadata": {},
   "outputs": [],
   "source": [
    "x_train_cat = x_train_cat[['representation of disadvantaged social groups', 'internal conflict',\n",
    "       'social group equality in respect for civil liberties',\n",
    "       'gender equality', 'Military expenditure', 'GDP per Capita']]\n",
    "\n",
    "x_test_cat = x_test_cat[['representation of disadvantaged social groups', 'internal conflict',\n",
    "       'social group equality in respect for civil liberties',\n",
    "       'gender equality', 'Military expenditure', 'GDP per Capita']]"
   ]
  },
  {
   "cell_type": "code",
   "execution_count": null,
   "metadata": {},
   "outputs": [],
   "source": []
  },
  {
   "cell_type": "markdown",
   "metadata": {},
   "source": []
  },
  {
   "cell_type": "code",
   "execution_count": null,
   "metadata": {},
   "outputs": [],
   "source": [
    "## dropping the values RFECV found, and seeing what happens to the model! \n",
    "\n",
    "## needs the train_test_split done before it can be run\n",
    "\n",
    "runthis = False\n",
    "\n",
    "if runthis == True:\n",
    "    model_df2 = model_df2.drop(['ccta', 'absence of corruption', 'representation of disadvantaged social groups', 'law and order',\n",
    "       'social group equality in respect for civil liberties', 'Military expenditure', 'GDP per Capita'], axis = 1)\n",
    "    # RFC = RandomForestClassifier(n_estimators = 50, criterion = \"entropy\").fit(x_train_cat, y_train_cat)\n",
    "    # prediction_RFC = RFC.predict(x_train_cat)\n",
    "    # RFC_train_score = '{0:.4f}'.format(RFC.score(x_train_cat, y_train_cat) * 100)\n",
    "    # prediction_RFC_test = RFC.predict(x_test_cat)\n",
    "    # RFC_test_score = '{0:.4f}'.format(RFC.score(x_test_cat, y_test_cat) * 100)\n",
    "    # print('RFC Training Accuracy: ', RFC_train_score)\n",
    "    # print('RFC Testing Accuracy: ', RFC_test_score)\n",
    "\n",
    "\n",
    "    # RFC Training Accuracy:  30.5996\n",
    "    # RFC Testing Accuracy:  19.1117"
   ]
  },
  {
   "cell_type": "markdown",
   "metadata": {},
   "source": [
    "The training and testing scores are much worse without the 7 features selected with RFECV."
   ]
  }
 ],
 "metadata": {
  "interpreter": {
   "hash": "fe44fef87f92f48a3a32707d0df204585f471652bc0ce87358a3ce712bc24db0"
  },
  "kernelspec": {
   "display_name": "Python 3.9.7 64-bit",
   "name": "python3"
  },
  "language_info": {
   "codemirror_mode": {
    "name": "ipython",
    "version": 3
   },
   "file_extension": ".py",
   "mimetype": "text/x-python",
   "name": "python",
   "nbconvert_exporter": "python",
   "pygments_lexer": "ipython3",
   "version": "3.9.9"
  },
  "orig_nbformat": 4
 },
 "nbformat": 4,
 "nbformat_minor": 2
}
